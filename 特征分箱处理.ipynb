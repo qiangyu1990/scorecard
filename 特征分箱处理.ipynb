{
 "cells": [
  {
   "cell_type": "code",
   "execution_count": 1,
   "metadata": {},
   "outputs": [],
   "source": [
    "import pandas as pd\n",
    "import numpy as np\n",
    "import matplotlib.pyplot as plt\n",
    "import seaborn as sns\n",
    "%matplotlib inline"
   ]
  },
  {
   "cell_type": "code",
   "execution_count": 2,
   "metadata": {},
   "outputs": [],
   "source": [
    "data_Smote = pd.read_csv('Traindata_clean.csv')"
   ]
  },
  {
   "cell_type": "code",
   "execution_count": 3,
   "metadata": {},
   "outputs": [
    {
     "data": {
      "text/html": [
       "<div>\n",
       "<style scoped>\n",
       "    .dataframe tbody tr th:only-of-type {\n",
       "        vertical-align: middle;\n",
       "    }\n",
       "\n",
       "    .dataframe tbody tr th {\n",
       "        vertical-align: top;\n",
       "    }\n",
       "\n",
       "    .dataframe thead th {\n",
       "        text-align: right;\n",
       "    }\n",
       "</style>\n",
       "<table border=\"1\" class=\"dataframe\">\n",
       "  <thead>\n",
       "    <tr style=\"text-align: right;\">\n",
       "      <th></th>\n",
       "      <th>SeriousDlqin2yrs</th>\n",
       "      <th>RevolvingUtilizationOfUnsecuredLines</th>\n",
       "      <th>age</th>\n",
       "      <th>NumberOfTime30-59DaysPastDueNotWorse</th>\n",
       "      <th>DebtRatio</th>\n",
       "      <th>MonthlyIncome</th>\n",
       "      <th>NumberOfOpenCreditLinesAndLoans</th>\n",
       "      <th>NumberOfTimes90DaysLate</th>\n",
       "      <th>NumberRealEstateLoansOrLines</th>\n",
       "      <th>NumberOfTime60-89DaysPastDueNotWorse</th>\n",
       "      <th>NumberOfDependents</th>\n",
       "    </tr>\n",
       "  </thead>\n",
       "  <tbody>\n",
       "    <tr>\n",
       "      <th>0</th>\n",
       "      <td>0</td>\n",
       "      <td>0.766127</td>\n",
       "      <td>45</td>\n",
       "      <td>2</td>\n",
       "      <td>0.802982</td>\n",
       "      <td>9120.0</td>\n",
       "      <td>13</td>\n",
       "      <td>0</td>\n",
       "      <td>6</td>\n",
       "      <td>0</td>\n",
       "      <td>2.0</td>\n",
       "    </tr>\n",
       "    <tr>\n",
       "      <th>1</th>\n",
       "      <td>1</td>\n",
       "      <td>0.957151</td>\n",
       "      <td>40</td>\n",
       "      <td>0</td>\n",
       "      <td>0.121876</td>\n",
       "      <td>2600.0</td>\n",
       "      <td>4</td>\n",
       "      <td>0</td>\n",
       "      <td>0</td>\n",
       "      <td>0</td>\n",
       "      <td>1.0</td>\n",
       "    </tr>\n",
       "    <tr>\n",
       "      <th>2</th>\n",
       "      <td>1</td>\n",
       "      <td>0.658180</td>\n",
       "      <td>38</td>\n",
       "      <td>1</td>\n",
       "      <td>0.085113</td>\n",
       "      <td>3042.0</td>\n",
       "      <td>2</td>\n",
       "      <td>1</td>\n",
       "      <td>0</td>\n",
       "      <td>0</td>\n",
       "      <td>0.0</td>\n",
       "    </tr>\n",
       "    <tr>\n",
       "      <th>3</th>\n",
       "      <td>1</td>\n",
       "      <td>0.233810</td>\n",
       "      <td>30</td>\n",
       "      <td>0</td>\n",
       "      <td>0.036050</td>\n",
       "      <td>3300.0</td>\n",
       "      <td>5</td>\n",
       "      <td>0</td>\n",
       "      <td>0</td>\n",
       "      <td>0</td>\n",
       "      <td>0.0</td>\n",
       "    </tr>\n",
       "    <tr>\n",
       "      <th>4</th>\n",
       "      <td>1</td>\n",
       "      <td>0.907239</td>\n",
       "      <td>49</td>\n",
       "      <td>1</td>\n",
       "      <td>0.024926</td>\n",
       "      <td>63588.0</td>\n",
       "      <td>7</td>\n",
       "      <td>0</td>\n",
       "      <td>1</td>\n",
       "      <td>0</td>\n",
       "      <td>0.0</td>\n",
       "    </tr>\n",
       "  </tbody>\n",
       "</table>\n",
       "</div>"
      ],
      "text/plain": [
       "   SeriousDlqin2yrs  RevolvingUtilizationOfUnsecuredLines  age  \\\n",
       "0                 0                              0.766127   45   \n",
       "1                 1                              0.957151   40   \n",
       "2                 1                              0.658180   38   \n",
       "3                 1                              0.233810   30   \n",
       "4                 1                              0.907239   49   \n",
       "\n",
       "   NumberOfTime30-59DaysPastDueNotWorse  DebtRatio  MonthlyIncome  \\\n",
       "0                                     2   0.802982         9120.0   \n",
       "1                                     0   0.121876         2600.0   \n",
       "2                                     1   0.085113         3042.0   \n",
       "3                                     0   0.036050         3300.0   \n",
       "4                                     1   0.024926        63588.0   \n",
       "\n",
       "   NumberOfOpenCreditLinesAndLoans  NumberOfTimes90DaysLate  \\\n",
       "0                               13                        0   \n",
       "1                                4                        0   \n",
       "2                                2                        1   \n",
       "3                                5                        0   \n",
       "4                                7                        0   \n",
       "\n",
       "   NumberRealEstateLoansOrLines  NumberOfTime60-89DaysPastDueNotWorse  \\\n",
       "0                             6                                     0   \n",
       "1                             0                                     0   \n",
       "2                             0                                     0   \n",
       "3                             0                                     0   \n",
       "4                             1                                     0   \n",
       "\n",
       "   NumberOfDependents  \n",
       "0                 2.0  \n",
       "1                 1.0  \n",
       "2                 0.0  \n",
       "3                 0.0  \n",
       "4                 0.0  "
      ]
     },
     "execution_count": 3,
     "metadata": {},
     "output_type": "execute_result"
    }
   ],
   "source": [
    "data_Smote[:5]"
   ]
  },
  {
   "cell_type": "code",
   "execution_count": 4,
   "metadata": {},
   "outputs": [
    {
     "name": "stdout",
     "output_type": "stream",
     "text": [
      "<class 'pandas.core.frame.DataFrame'>\n",
      "RangeIndex: 145837 entries, 0 to 145836\n",
      "Data columns (total 11 columns):\n",
      "SeriousDlqin2yrs                        145837 non-null int64\n",
      "RevolvingUtilizationOfUnsecuredLines    145837 non-null float64\n",
      "age                                     145837 non-null int64\n",
      "NumberOfTime30-59DaysPastDueNotWorse    145837 non-null int64\n",
      "DebtRatio                               145837 non-null float64\n",
      "MonthlyIncome                           145837 non-null float64\n",
      "NumberOfOpenCreditLinesAndLoans         145837 non-null int64\n",
      "NumberOfTimes90DaysLate                 145837 non-null int64\n",
      "NumberRealEstateLoansOrLines            145837 non-null int64\n",
      "NumberOfTime60-89DaysPastDueNotWorse    145837 non-null int64\n",
      "NumberOfDependents                      145837 non-null float64\n",
      "dtypes: float64(4), int64(7)\n",
      "memory usage: 12.2 MB\n"
     ]
    }
   ],
   "source": [
    "data_Smote.info()"
   ]
  },
  {
   "cell_type": "markdown",
   "metadata": {},
   "source": [
    "# 分箱的三种方法\n",
    "1. 等频分箱\n",
    "2. 等距分箱\n",
    "3. 基于k均值聚类的分箱"
   ]
  },
  {
   "cell_type": "code",
   "execution_count": 5,
   "metadata": {},
   "outputs": [
    {
     "name": "stdout",
     "output_type": "stream",
     "text": [
      "[0.76612661 0.95715102 0.65818014 ... 0.29974515 0.24604392 0.85028295]\n",
      "RevolvingUtilizationOfUnsecuredLines (122957,)\n",
      "[ 45  40  38  30  49  74  57  39  51  46  76  64  78  53  43  25  32  58\n",
      "  50  69  24  28  62  42  75  26  52  41  81  31  68  70  73  29  55  35\n",
      "  72  60  67  27  36  56  37  66  83  34  44  61  80  47  59  77  48  63\n",
      "  54  33  79  65  86  92  23  87  71  90  84  82  22  89  91  85  88  21\n",
      "  93  96  94  95 101  97  98 103 102  99 107]\n",
      "age (83,)\n",
      "[ 2  0  1  3  4  5  7 10  6 12  8  9 13 11]\n",
      "NumberOfTime30-59DaysPastDueNotWorse (14,)\n",
      "[0.80298213 0.1218762  0.08511338 ... 0.40429286 0.71656222 0.24990808]\n",
      "DebtRatio (114069,)\n",
      "[9.12000000e+03 2.60000000e+03 3.04200000e+03 ... 1.22229307e+01\n",
      " 7.64700000e+03 4.03355074e-01]\n",
      "MonthlyIncome (17359,)\n",
      "[13  4  2  5  7  3  8  9  6 10 14 22 17  1 15 31 12 21 11 19 18 26 20 23\n",
      "  0 16 27 29 28 24 25 32 46 33 30 34 37 38 36 35 54 43 45 49 57 48 40 58\n",
      " 51 52 39 41 56 42 47 50 44 53]\n",
      "NumberOfOpenCreditLinesAndLoans (58,)\n",
      "[ 0  1  3  2  5  4 10  9  6  7  8 15 11 13 14 17 12]\n",
      "NumberOfTimes90DaysLate (17,)\n",
      "[ 6  0  1  3  4  2  5  8  7  9 17 10 12 11 16 26 14 54 21 18 13 23 15 29\n",
      " 25 19 20 32]\n",
      "NumberRealEstateLoansOrLines (28,)\n",
      "[ 0  1  2  5  3  4  6  7  8 11  9]\n",
      "NumberOfTime60-89DaysPastDueNotWorse (11,)\n",
      "[ 2.  1.  0.  3.  4.  5.  6.  8.  7. 20. 10.  9. 13.]\n",
      "NumberOfDependents (13,)\n"
     ]
    }
   ],
   "source": [
    "print(data_Smote['RevolvingUtilizationOfUnsecuredLines'].unique())\n",
    "print('RevolvingUtilizationOfUnsecuredLines',data_Smote['RevolvingUtilizationOfUnsecuredLines'].unique().shape)\n",
    "print(data_Smote['age'].unique())\n",
    "print('age',data_Smote['age'].unique().shape)\n",
    "print(data_Smote['NumberOfTime30-59DaysPastDueNotWorse'].unique())\n",
    "print('NumberOfTime30-59DaysPastDueNotWorse',data_Smote['NumberOfTime30-59DaysPastDueNotWorse'].unique().shape)\n",
    "print(data_Smote['DebtRatio'].unique())\n",
    "print('DebtRatio',data_Smote['DebtRatio'].unique().shape)\n",
    "print(data_Smote['MonthlyIncome'].unique())\n",
    "print('MonthlyIncome',data_Smote['MonthlyIncome'].unique().shape)\n",
    "print(data_Smote['NumberOfOpenCreditLinesAndLoans'].unique())\n",
    "print('NumberOfOpenCreditLinesAndLoans',data_Smote['NumberOfOpenCreditLinesAndLoans'].unique().shape)\n",
    "print(data_Smote['NumberOfTimes90DaysLate'].unique())\n",
    "print('NumberOfTimes90DaysLate',data_Smote['NumberOfTimes90DaysLate'].unique().shape)\n",
    "print(data_Smote['NumberRealEstateLoansOrLines'].unique())\n",
    "print('NumberRealEstateLoansOrLines',data_Smote['NumberRealEstateLoansOrLines'].unique().shape)\n",
    "print(data_Smote['NumberOfTime60-89DaysPastDueNotWorse'].unique())\n",
    "print('NumberOfTime60-89DaysPastDueNotWorse',data_Smote['NumberOfTime60-89DaysPastDueNotWorse'].unique().shape)\n",
    "print(data_Smote['NumberOfDependents'].unique())\n",
    "print('NumberOfDependents',data_Smote['NumberOfDependents'].unique().shape)"
   ]
  },
  {
   "cell_type": "code",
   "execution_count": 6,
   "metadata": {},
   "outputs": [
    {
     "data": {
      "text/plain": [
       "Index(['SeriousDlqin2yrs', 'RevolvingUtilizationOfUnsecuredLines', 'age',\n",
       "       'NumberOfTime30-59DaysPastDueNotWorse', 'DebtRatio', 'MonthlyIncome',\n",
       "       'NumberOfOpenCreditLinesAndLoans', 'NumberOfTimes90DaysLate',\n",
       "       'NumberRealEstateLoansOrLines', 'NumberOfTime60-89DaysPastDueNotWorse',\n",
       "       'NumberOfDependents'],\n",
       "      dtype='object')"
      ]
     },
     "execution_count": 6,
     "metadata": {},
     "output_type": "execute_result"
    }
   ],
   "source": [
    "data_Smote.columns"
   ]
  },
  {
   "cell_type": "markdown",
   "metadata": {},
   "source": [
    "## 第一种 等距分箱"
   ]
  },
  {
   "cell_type": "code",
   "execution_count": 7,
   "metadata": {},
   "outputs": [],
   "source": [
    "bins_ROUL =[-np.inf,0,0.3,0.7,1,3,np.inf]  # RevolvingUtilizationOfUnsecuredLines\n",
    "bins_age =[-np.inf,30,45,55,60,65,75,np.inf]  # age\n",
    "bins_N359DW = [-np.inf,0,1,3,5,np.inf]  # NumberOfTime30-59DaysPastDueNotWorse\n",
    "bins_Ratio = [-np.inf,0,1,3,5,10,np.inf]   # DebtRatio\n",
    "bins_moncome =[-np.inf,751,3000,4500,6100,8850,np.inf] # MonthlyIncome\n",
    "bins_NCLL =[-np.inf,0,1,3,5,np.inf] # NumberOfOpenCreditLinesAndLoans\n",
    "bins_N90DL = [-np.inf,0,1,2,5,np.inf]   # NumberOfTimes90DaysLate\n",
    "bins_NRLL = [-np.inf,1,2,np.inf]   # NumberRealEstateLoansOrLines\n",
    "bins_N689DW = [-np.inf,0,1,3,5,np.inf]  # NumberOfTime60-89DaysPastDueNotWorse\n",
    "bins_NOD =[-np.inf,0,1,3,5,np.inf] # NumberOfDependents\n",
    "bins_seq ={}"
   ]
  },
  {
   "cell_type": "code",
   "execution_count": 8,
   "metadata": {},
   "outputs": [],
   "source": [
    "for name,bins in zip(list(data_Smote.columns)[1:],[bins_ROUL,bins_age,bins_N359DW,bins_Ratio,bins_moncome,bins_NCLL,bins_N90DL,bins_NRLL,bins_N689DW,bins_NOD]):\n",
    "    bins_seq[name] = bins"
   ]
  },
  {
   "cell_type": "code",
   "execution_count": 9,
   "metadata": {},
   "outputs": [
    {
     "data": {
      "text/plain": [
       "(-inf, 0.0]    86714\n",
       "(1.0, 3.0]     28980\n",
       "(0.0, 1.0]     26293\n",
       "(3.0, 5.0]      3605\n",
       "(5.0, inf]       245\n",
       "Name: NumberOfDependents, dtype: int64"
      ]
     },
     "execution_count": 9,
     "metadata": {},
     "output_type": "execute_result"
    }
   ],
   "source": [
    "pd.cut(data_Smote['NumberOfDependents'],bins=bins_NOD).value_counts()"
   ]
  },
  {
   "cell_type": "code",
   "execution_count": 10,
   "metadata": {},
   "outputs": [
    {
     "data": {
      "text/plain": [
       "{'RevolvingUtilizationOfUnsecuredLines': [-inf, 0, 0.3, 0.7, 1, 3, inf],\n",
       " 'age': [-inf, 30, 45, 55, 60, 65, 75, inf],\n",
       " 'NumberOfTime30-59DaysPastDueNotWorse': [-inf, 0, 1, 3, 5, inf],\n",
       " 'DebtRatio': [-inf, 0, 1, 3, 5, 10, inf],\n",
       " 'MonthlyIncome': [-inf, 751, 3000, 4500, 6100, 8850, inf],\n",
       " 'NumberOfOpenCreditLinesAndLoans': [-inf, 0, 1, 3, 5, inf],\n",
       " 'NumberOfTimes90DaysLate': [-inf, 0, 1, 2, 5, inf],\n",
       " 'NumberRealEstateLoansOrLines': [-inf, 1, 2, inf],\n",
       " 'NumberOfTime60-89DaysPastDueNotWorse': [-inf, 0, 1, 3, 5, inf],\n",
       " 'NumberOfDependents': [-inf, 0, 1, 3, 5, inf]}"
      ]
     },
     "execution_count": 10,
     "metadata": {},
     "output_type": "execute_result"
    }
   ],
   "source": [
    "bins_seq"
   ]
  },
  {
   "cell_type": "markdown",
   "metadata": {},
   "source": [
    "# 计算WOE值"
   ]
  },
  {
   "cell_type": "code",
   "execution_count": 11,
   "metadata": {},
   "outputs": [],
   "source": [
    "def calcu_woe(Data,bins_seq):\n",
    "    woe_dict = {}\n",
    "    for col in Data.columns.tolist(): \n",
    "        woe_List =[]\n",
    "        if col=='SeriousDlqin2yrs':\n",
    "            Allgood = Data[col].value_counts()[1]\n",
    "            Allbad = Data[col].value_counts()[0]\n",
    "        else:\n",
    "            for i in np.arange(len(bins_seq[col])-1):\n",
    "                Min =Data[col]<=bins_seq[col][i+1]\n",
    "                Max =Data[col]>bins_seq[col][i]\n",
    "                good = Data.loc[(Min&Max),'SeriousDlqin2yrs'].sum()\n",
    "                bad = len(Data.loc[(Min&Max),'SeriousDlqin2yrs'])-good\n",
    "                woe = np.log((good/Allgood)*(Allbad/bad))\n",
    "                woe_List.append(round(woe,4))\n",
    "            woe_dict[col] =woe_List\n",
    "    return woe_dict"
   ]
  },
  {
   "cell_type": "code",
   "execution_count": 42,
   "metadata": {},
   "outputs": [
    {
     "data": {
      "text/plain": [
       "{'RevolvingUtilizationOfUnsecuredLines': [0.8288,\n",
       "  1.1802,\n",
       "  -0.1158,\n",
       "  -1.0818,\n",
       "  -2.2233,\n",
       "  -0.4941],\n",
       " 'age': [-0.5688, -0.3553, -0.1361, 0.2853, 0.5439, 0.9594, 1.1947],\n",
       " 'NumberOfTime30-59DaysPastDueNotWorse': [0.5275,\n",
       "  -0.9063,\n",
       "  -1.7379,\n",
       "  -2.3839,\n",
       "  -2.6572],\n",
       " 'DebtRatio': [0.0129, -0.0005, -0.7209, 0.0224, 0.4969, 0.1871],\n",
       " 'MonthlyIncome': [0.2474, -0.3321, -0.2824, -0.092, 0.1839, 0.4113],\n",
       " 'NumberOfOpenCreditLinesAndLoans': [-1.3749, -0.7978, -0.2559, 0.025, 0.1242],\n",
       " 'NumberOfTimes90DaysLate': [0.3751, -1.9657, -2.6376, -3.0776, -3.3085],\n",
       " 'NumberRealEstateLoansOrLines': [-0.0232, 0.1844, -0.2586],\n",
       " 'NumberOfTime60-89DaysPastDueNotWorse': [0.2729,\n",
       "  -1.833,\n",
       "  -2.6953,\n",
       "  -3.1007,\n",
       "  -3.3874],\n",
       " 'NumberOfDependents': [0.1553, -0.0996, -0.2373, -0.4537, -0.7082]}"
      ]
     },
     "execution_count": 42,
     "metadata": {},
     "output_type": "execute_result"
    }
   ],
   "source": [
    "woe_dict =calcu_woe(data_Smote,bins_seq)\n",
    "woe_dict"
   ]
  },
  {
   "cell_type": "markdown",
   "metadata": {},
   "source": [
    "# 对整个数据集进行cut切分"
   ]
  },
  {
   "cell_type": "code",
   "execution_count": 13,
   "metadata": {},
   "outputs": [],
   "source": [
    "Data_Cut = pd.DataFrame()\n",
    "def Data_Preprocessing_Cut(Data,bins_seq):\n",
    "    for col in list(Data.columns[1:]):\n",
    "        Data_Cut[col] = pd.cut(data_Smote[col],bins =bins_seq[col]).map(str).tolist()\n",
    "    return Data_Cut"
   ]
  },
  {
   "cell_type": "code",
   "execution_count": 14,
   "metadata": {},
   "outputs": [],
   "source": [
    "Data_Smote_Cut = Data_Preprocessing_Cut(data_Smote,bins_seq=bins_seq)"
   ]
  },
  {
   "cell_type": "markdown",
   "metadata": {},
   "source": [
    "# 用WOE数据替换原数据集"
   ]
  },
  {
   "cell_type": "code",
   "execution_count": 15,
   "metadata": {},
   "outputs": [],
   "source": [
    "def data_preprocessing_woereplace(Source_data,Source_data_cut,Bins_seq,Woe_dict):\n",
    "    # first step . use woe values and binning make dict for replace\n",
    "    Data = Source_data.copy()\n",
    "    for col in Data.columns.tolist()[1:]:\n",
    "        woe_bins_dict ={}\n",
    "        bins_sort_list = pd.cut(Data[col],bins =bins_seq[col]).unique().sort_values().tolist()\n",
    "        for i,bins in enumerate(bins_sort_list):\n",
    "            woe_bins_dict[str(bins)] = woe_dict[col][i]\n",
    "        Data[col] = Data_Smote_Cut[col].map(woe_bins_dict)\n",
    "    return Data"
   ]
  },
  {
   "cell_type": "code",
   "execution_count": 16,
   "metadata": {},
   "outputs": [],
   "source": [
    "Data_Smote_Cut_replace = data_preprocessing_woereplace(Source_data=data_Smote,Source_data_cut=Data_Smote_Cut,Bins_seq=bins_seq,Woe_dict=woe_dict)"
   ]
  },
  {
   "cell_type": "code",
   "execution_count": 17,
   "metadata": {},
   "outputs": [],
   "source": [
    "Data_Smote_Cut_replace.to_csv('Data_Smote_Cut_replace.csv',header = True,index=False,encoding='utf-8')"
   ]
  },
  {
   "cell_type": "code",
   "execution_count": 28,
   "metadata": {},
   "outputs": [],
   "source": [
    "class class_Preprocess_WOE_Reshape:\n",
    "    def __init__(self,data,bins):\n",
    "        self.Data = data\n",
    "        self.bins = bins\n",
    "    def calcu_woe(self):\n",
    "        woe_dict = {}\n",
    "        for col in self.Data.columns.tolist(): \n",
    "            woe_List =[]\n",
    "            if col=='SeriousDlqin2yrs':\n",
    "                Allgood = self.Data[col].value_counts()[1]\n",
    "                Allbad = self.Data[col].value_counts()[0]\n",
    "            else:\n",
    "                for i in np.arange(len(self.bins[col])-1):\n",
    "                    Min =self.Data[col]<=self.bins[col][i+1]\n",
    "                    Max =self.Data[col]>self.bins[col][i]\n",
    "                    good = self.Data.loc[(Min&Max),'SeriousDlqin2yrs'].sum()\n",
    "                    bad = len(self.Data.loc[(Min&Max),'SeriousDlqin2yrs'])-good\n",
    "                    woe = np.log((good/Allgood)*(Allbad/bad))\n",
    "                    woe_List.append(round(woe,4))\n",
    "                woe_dict[col] =woe_List\n",
    "        return woe_dict\n",
    "    def Data_Preprocessing_Cut(self):\n",
    "        Data_Cut = pd.DataFrame()\n",
    "        for col in list( self.Data.columns[1:]):\n",
    "            Data_Cut[col] = pd.cut( self.Data[col],bins =self.bins[col]).map(str).tolist()\n",
    "        return Data_Cut\n",
    "    def data_Preprocessing_Woe_Replace(self):\n",
    "        # first step . use woe values and binning make dict for replace\n",
    "        Data = self.Data.copy()\n",
    "        for col in Data.columns.tolist()[1:]:\n",
    "            woe_bins_dict ={}\n",
    "            woe_dict = calcu_woe(Data=self.Data,bins_seq=self.bins)\n",
    "            Data_Smote_Cut = Data_Preprocessing_Cut(Data=self.Data,bins_seq=self.bins)\n",
    "            bins_sort_list = pd.cut(Data[col],bins =self.bins[col]).unique().sort_values().tolist()\n",
    "            for i,bins in enumerate(bins_sort_list):\n",
    "                woe_bins_dict[str(bins)] = woe_dict[col][i]\n",
    "            Data[col] = Data_Smote_Cut[col].map(woe_bins_dict)\n",
    "        return Data"
   ]
  },
  {
   "cell_type": "code",
   "execution_count": 29,
   "metadata": {},
   "outputs": [],
   "source": [
    "WOE_Reshape = class_Preprocess_WOE_Reshape(data = data_Smote,bins=bins_seq)\n",
    "woe_dict = WOE_Reshape.calcu_woe()"
   ]
  },
  {
   "cell_type": "code",
   "execution_count": 30,
   "metadata": {},
   "outputs": [],
   "source": [
    "woe_dict = WOE_Reshape.calcu_woe()\n",
    "Data_Cut = WOE_Reshape.Data_Preprocessing_Cut()"
   ]
  },
  {
   "cell_type": "code",
   "execution_count": 43,
   "metadata": {},
   "outputs": [
    {
     "data": {
      "text/plain": [
       "{'RevolvingUtilizationOfUnsecuredLines': [0.8288,\n",
       "  1.1802,\n",
       "  -0.1158,\n",
       "  -1.0818,\n",
       "  -2.2233,\n",
       "  -0.4941],\n",
       " 'age': [-0.5688, -0.3553, -0.1361, 0.2853, 0.5439, 0.9594, 1.1947],\n",
       " 'NumberOfTime30-59DaysPastDueNotWorse': [0.5275,\n",
       "  -0.9063,\n",
       "  -1.7379,\n",
       "  -2.3839,\n",
       "  -2.6572],\n",
       " 'DebtRatio': [0.0129, -0.0005, -0.7209, 0.0224, 0.4969, 0.1871],\n",
       " 'MonthlyIncome': [0.2474, -0.3321, -0.2824, -0.092, 0.1839, 0.4113],\n",
       " 'NumberOfOpenCreditLinesAndLoans': [-1.3749, -0.7978, -0.2559, 0.025, 0.1242],\n",
       " 'NumberOfTimes90DaysLate': [0.3751, -1.9657, -2.6376, -3.0776, -3.3085],\n",
       " 'NumberRealEstateLoansOrLines': [-0.0232, 0.1844, -0.2586],\n",
       " 'NumberOfTime60-89DaysPastDueNotWorse': [0.2729,\n",
       "  -1.833,\n",
       "  -2.6953,\n",
       "  -3.1007,\n",
       "  -3.3874],\n",
       " 'NumberOfDependents': [0.1553, -0.0996, -0.2373, -0.4537, -0.7082]}"
      ]
     },
     "execution_count": 43,
     "metadata": {},
     "output_type": "execute_result"
    }
   ],
   "source": [
    "woe_dict"
   ]
  },
  {
   "cell_type": "code",
   "execution_count": 32,
   "metadata": {},
   "outputs": [],
   "source": [
    "Target_data = WOE_Reshape.data_Preprocessing_Woe_Replace()"
   ]
  },
  {
   "cell_type": "code",
   "execution_count": 41,
   "metadata": {},
   "outputs": [
    {
     "data": {
      "text/html": [
       "<div>\n",
       "<style scoped>\n",
       "    .dataframe tbody tr th:only-of-type {\n",
       "        vertical-align: middle;\n",
       "    }\n",
       "\n",
       "    .dataframe tbody tr th {\n",
       "        vertical-align: top;\n",
       "    }\n",
       "\n",
       "    .dataframe thead th {\n",
       "        text-align: right;\n",
       "    }\n",
       "</style>\n",
       "<table border=\"1\" class=\"dataframe\">\n",
       "  <thead>\n",
       "    <tr style=\"text-align: right;\">\n",
       "      <th></th>\n",
       "      <th>SeriousDlqin2yrs</th>\n",
       "      <th>RevolvingUtilizationOfUnsecuredLines</th>\n",
       "      <th>age</th>\n",
       "      <th>NumberOfTime30-59DaysPastDueNotWorse</th>\n",
       "      <th>DebtRatio</th>\n",
       "      <th>MonthlyIncome</th>\n",
       "      <th>NumberOfOpenCreditLinesAndLoans</th>\n",
       "      <th>NumberOfTimes90DaysLate</th>\n",
       "      <th>NumberRealEstateLoansOrLines</th>\n",
       "      <th>NumberOfTime60-89DaysPastDueNotWorse</th>\n",
       "      <th>NumberOfDependents</th>\n",
       "    </tr>\n",
       "  </thead>\n",
       "  <tbody>\n",
       "    <tr>\n",
       "      <th>0</th>\n",
       "      <td>0</td>\n",
       "      <td>-1.0818</td>\n",
       "      <td>-0.3553</td>\n",
       "      <td>-1.7379</td>\n",
       "      <td>-0.0005</td>\n",
       "      <td>0.4113</td>\n",
       "      <td>0.1242</td>\n",
       "      <td>0.3751</td>\n",
       "      <td>-0.2586</td>\n",
       "      <td>0.2729</td>\n",
       "      <td>-0.2373</td>\n",
       "    </tr>\n",
       "    <tr>\n",
       "      <th>1</th>\n",
       "      <td>1</td>\n",
       "      <td>-1.0818</td>\n",
       "      <td>-0.3553</td>\n",
       "      <td>0.5275</td>\n",
       "      <td>-0.0005</td>\n",
       "      <td>-0.3321</td>\n",
       "      <td>0.0250</td>\n",
       "      <td>0.3751</td>\n",
       "      <td>-0.0232</td>\n",
       "      <td>0.2729</td>\n",
       "      <td>-0.0996</td>\n",
       "    </tr>\n",
       "    <tr>\n",
       "      <th>2</th>\n",
       "      <td>1</td>\n",
       "      <td>-0.1158</td>\n",
       "      <td>-0.3553</td>\n",
       "      <td>-0.9063</td>\n",
       "      <td>-0.0005</td>\n",
       "      <td>-0.2824</td>\n",
       "      <td>-0.2559</td>\n",
       "      <td>-1.9657</td>\n",
       "      <td>-0.0232</td>\n",
       "      <td>0.2729</td>\n",
       "      <td>0.1553</td>\n",
       "    </tr>\n",
       "  </tbody>\n",
       "</table>\n",
       "</div>"
      ],
      "text/plain": [
       "   SeriousDlqin2yrs  RevolvingUtilizationOfUnsecuredLines     age  \\\n",
       "0                 0                               -1.0818 -0.3553   \n",
       "1                 1                               -1.0818 -0.3553   \n",
       "2                 1                               -0.1158 -0.3553   \n",
       "\n",
       "   NumberOfTime30-59DaysPastDueNotWorse  DebtRatio  MonthlyIncome  \\\n",
       "0                               -1.7379    -0.0005         0.4113   \n",
       "1                                0.5275    -0.0005        -0.3321   \n",
       "2                               -0.9063    -0.0005        -0.2824   \n",
       "\n",
       "   NumberOfOpenCreditLinesAndLoans  NumberOfTimes90DaysLate  \\\n",
       "0                           0.1242                   0.3751   \n",
       "1                           0.0250                   0.3751   \n",
       "2                          -0.2559                  -1.9657   \n",
       "\n",
       "   NumberRealEstateLoansOrLines  NumberOfTime60-89DaysPastDueNotWorse  \\\n",
       "0                       -0.2586                                0.2729   \n",
       "1                       -0.0232                                0.2729   \n",
       "2                       -0.0232                                0.2729   \n",
       "\n",
       "   NumberOfDependents  \n",
       "0             -0.2373  \n",
       "1             -0.0996  \n",
       "2              0.1553  "
      ]
     },
     "execution_count": 41,
     "metadata": {},
     "output_type": "execute_result"
    }
   ],
   "source": [
    "Target_data[:3]"
   ]
  },
  {
   "cell_type": "code",
   "execution_count": null,
   "metadata": {},
   "outputs": [],
   "source": []
  },
  {
   "cell_type": "code",
   "execution_count": null,
   "metadata": {},
   "outputs": [],
   "source": []
  },
  {
   "cell_type": "code",
   "execution_count": null,
   "metadata": {},
   "outputs": [],
   "source": []
  },
  {
   "cell_type": "code",
   "execution_count": null,
   "metadata": {},
   "outputs": [],
   "source": []
  },
  {
   "cell_type": "code",
   "execution_count": null,
   "metadata": {},
   "outputs": [],
   "source": []
  },
  {
   "cell_type": "code",
   "execution_count": null,
   "metadata": {},
   "outputs": [],
   "source": []
  },
  {
   "cell_type": "code",
   "execution_count": null,
   "metadata": {},
   "outputs": [],
   "source": []
  },
  {
   "cell_type": "code",
   "execution_count": null,
   "metadata": {},
   "outputs": [],
   "source": []
  },
  {
   "cell_type": "code",
   "execution_count": null,
   "metadata": {},
   "outputs": [],
   "source": []
  },
  {
   "cell_type": "code",
   "execution_count": null,
   "metadata": {},
   "outputs": [],
   "source": []
  },
  {
   "cell_type": "code",
   "execution_count": null,
   "metadata": {},
   "outputs": [],
   "source": []
  }
 ],
 "metadata": {
  "kernelspec": {
   "display_name": "Python 3",
   "language": "python",
   "name": "python3"
  },
  "language_info": {
   "codemirror_mode": {
    "name": "ipython",
    "version": 3
   },
   "file_extension": ".py",
   "mimetype": "text/x-python",
   "name": "python",
   "nbconvert_exporter": "python",
   "pygments_lexer": "ipython3",
   "version": "3.6.5"
  }
 },
 "nbformat": 4,
 "nbformat_minor": 2
}
