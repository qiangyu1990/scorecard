{
 "cells": [
  {
   "cell_type": "code",
   "execution_count": 2,
   "metadata": {},
   "outputs": [],
   "source": [
    "# 导入需要的包\n",
    "import pandas as pd\n",
    "import numpy as np\n",
    "import matplotlib.pyplot as plt\n",
    "import seaborn as sns\n",
    "import matplotlib.image as mpimg # mpimg 用于读取图片\n",
    "from datetime import datetime\n",
    "from sklearn.ensemble import RandomForestRegressor\n",
    "from sklearn.model_selection import train_test_split\n",
    "from sklearn.metrics import r2_score\n",
    "import warnings  \n",
    "warnings.filterwarnings(\"ignore\")  \n",
    "%matplotlib inline"
   ]
  },
  {
   "cell_type": "code",
   "execution_count": 3,
   "metadata": {},
   "outputs": [],
   "source": [
    "def loadData(Dataname):\n",
    "    Path = 'source/'+str(Dataname)\n",
    "    TextFile = pd.read_csv(Path)\n",
    "    return TextFile"
   ]
  },
  {
   "cell_type": "code",
   "execution_count": 4,
   "metadata": {},
   "outputs": [],
   "source": [
    "trainData = loadData('cs-training.csv')"
   ]
  },
  {
   "cell_type": "markdown",
   "metadata": {},
   "source": [
    " <img src=\"source/Image1.png\"/>"
   ]
  },
  {
   "cell_type": "markdown",
   "metadata": {},
   "source": [
    "# 特征缺失情况：\n",
    "* 月收入和家属数量两个变量出现缺失，分别缺失29731个和3924个"
   ]
  },
  {
   "cell_type": "code",
   "execution_count": 5,
   "metadata": {},
   "outputs": [
    {
     "data": {
      "text/html": [
       "<div>\n",
       "<style scoped>\n",
       "    .dataframe tbody tr th:only-of-type {\n",
       "        vertical-align: middle;\n",
       "    }\n",
       "\n",
       "    .dataframe tbody tr th {\n",
       "        vertical-align: top;\n",
       "    }\n",
       "\n",
       "    .dataframe thead th {\n",
       "        text-align: right;\n",
       "    }\n",
       "</style>\n",
       "<table border=\"1\" class=\"dataframe\">\n",
       "  <thead>\n",
       "    <tr style=\"text-align: right;\">\n",
       "      <th></th>\n",
       "      <th>Unnamed: 0</th>\n",
       "      <th>SeriousDlqin2yrs</th>\n",
       "      <th>RevolvingUtilizationOfUnsecuredLines</th>\n",
       "      <th>age</th>\n",
       "      <th>NumberOfTime30-59DaysPastDueNotWorse</th>\n",
       "      <th>DebtRatio</th>\n",
       "      <th>MonthlyIncome</th>\n",
       "      <th>NumberOfOpenCreditLinesAndLoans</th>\n",
       "      <th>NumberOfTimes90DaysLate</th>\n",
       "      <th>NumberRealEstateLoansOrLines</th>\n",
       "      <th>NumberOfTime60-89DaysPastDueNotWorse</th>\n",
       "      <th>NumberOfDependents</th>\n",
       "    </tr>\n",
       "  </thead>\n",
       "  <tbody>\n",
       "    <tr>\n",
       "      <th>count</th>\n",
       "      <td>150000.00</td>\n",
       "      <td>150000.00</td>\n",
       "      <td>150000.00</td>\n",
       "      <td>150000.00</td>\n",
       "      <td>150000.00</td>\n",
       "      <td>150000.00</td>\n",
       "      <td>120269.00</td>\n",
       "      <td>150000.00</td>\n",
       "      <td>150000.00</td>\n",
       "      <td>150000.00</td>\n",
       "      <td>150000.00</td>\n",
       "      <td>146076.00</td>\n",
       "    </tr>\n",
       "    <tr>\n",
       "      <th>mean</th>\n",
       "      <td>75000.50</td>\n",
       "      <td>0.07</td>\n",
       "      <td>6.05</td>\n",
       "      <td>52.30</td>\n",
       "      <td>0.42</td>\n",
       "      <td>353.01</td>\n",
       "      <td>6670.22</td>\n",
       "      <td>8.45</td>\n",
       "      <td>0.27</td>\n",
       "      <td>1.02</td>\n",
       "      <td>0.24</td>\n",
       "      <td>0.76</td>\n",
       "    </tr>\n",
       "    <tr>\n",
       "      <th>std</th>\n",
       "      <td>43301.41</td>\n",
       "      <td>0.25</td>\n",
       "      <td>249.76</td>\n",
       "      <td>14.77</td>\n",
       "      <td>4.19</td>\n",
       "      <td>2037.82</td>\n",
       "      <td>14384.67</td>\n",
       "      <td>5.15</td>\n",
       "      <td>4.17</td>\n",
       "      <td>1.13</td>\n",
       "      <td>4.16</td>\n",
       "      <td>1.12</td>\n",
       "    </tr>\n",
       "    <tr>\n",
       "      <th>min</th>\n",
       "      <td>1.00</td>\n",
       "      <td>0.00</td>\n",
       "      <td>0.00</td>\n",
       "      <td>0.00</td>\n",
       "      <td>0.00</td>\n",
       "      <td>0.00</td>\n",
       "      <td>0.00</td>\n",
       "      <td>0.00</td>\n",
       "      <td>0.00</td>\n",
       "      <td>0.00</td>\n",
       "      <td>0.00</td>\n",
       "      <td>0.00</td>\n",
       "    </tr>\n",
       "    <tr>\n",
       "      <th>25%</th>\n",
       "      <td>37500.75</td>\n",
       "      <td>0.00</td>\n",
       "      <td>0.03</td>\n",
       "      <td>41.00</td>\n",
       "      <td>0.00</td>\n",
       "      <td>0.18</td>\n",
       "      <td>3400.00</td>\n",
       "      <td>5.00</td>\n",
       "      <td>0.00</td>\n",
       "      <td>0.00</td>\n",
       "      <td>0.00</td>\n",
       "      <td>0.00</td>\n",
       "    </tr>\n",
       "    <tr>\n",
       "      <th>50%</th>\n",
       "      <td>75000.50</td>\n",
       "      <td>0.00</td>\n",
       "      <td>0.15</td>\n",
       "      <td>52.00</td>\n",
       "      <td>0.00</td>\n",
       "      <td>0.37</td>\n",
       "      <td>5400.00</td>\n",
       "      <td>8.00</td>\n",
       "      <td>0.00</td>\n",
       "      <td>1.00</td>\n",
       "      <td>0.00</td>\n",
       "      <td>0.00</td>\n",
       "    </tr>\n",
       "    <tr>\n",
       "      <th>75%</th>\n",
       "      <td>112500.25</td>\n",
       "      <td>0.00</td>\n",
       "      <td>0.56</td>\n",
       "      <td>63.00</td>\n",
       "      <td>0.00</td>\n",
       "      <td>0.87</td>\n",
       "      <td>8249.00</td>\n",
       "      <td>11.00</td>\n",
       "      <td>0.00</td>\n",
       "      <td>2.00</td>\n",
       "      <td>0.00</td>\n",
       "      <td>1.00</td>\n",
       "    </tr>\n",
       "    <tr>\n",
       "      <th>max</th>\n",
       "      <td>150000.00</td>\n",
       "      <td>1.00</td>\n",
       "      <td>50708.00</td>\n",
       "      <td>109.00</td>\n",
       "      <td>98.00</td>\n",
       "      <td>329664.00</td>\n",
       "      <td>3008750.00</td>\n",
       "      <td>58.00</td>\n",
       "      <td>98.00</td>\n",
       "      <td>54.00</td>\n",
       "      <td>98.00</td>\n",
       "      <td>20.00</td>\n",
       "    </tr>\n",
       "  </tbody>\n",
       "</table>\n",
       "</div>"
      ],
      "text/plain": [
       "       Unnamed: 0  SeriousDlqin2yrs  RevolvingUtilizationOfUnsecuredLines  \\\n",
       "count   150000.00         150000.00                             150000.00   \n",
       "mean     75000.50              0.07                                  6.05   \n",
       "std      43301.41              0.25                                249.76   \n",
       "min          1.00              0.00                                  0.00   \n",
       "25%      37500.75              0.00                                  0.03   \n",
       "50%      75000.50              0.00                                  0.15   \n",
       "75%     112500.25              0.00                                  0.56   \n",
       "max     150000.00              1.00                              50708.00   \n",
       "\n",
       "             age  NumberOfTime30-59DaysPastDueNotWorse  DebtRatio  \\\n",
       "count  150000.00                             150000.00  150000.00   \n",
       "mean       52.30                                  0.42     353.01   \n",
       "std        14.77                                  4.19    2037.82   \n",
       "min         0.00                                  0.00       0.00   \n",
       "25%        41.00                                  0.00       0.18   \n",
       "50%        52.00                                  0.00       0.37   \n",
       "75%        63.00                                  0.00       0.87   \n",
       "max       109.00                                 98.00  329664.00   \n",
       "\n",
       "       MonthlyIncome  NumberOfOpenCreditLinesAndLoans  \\\n",
       "count      120269.00                        150000.00   \n",
       "mean         6670.22                             8.45   \n",
       "std         14384.67                             5.15   \n",
       "min             0.00                             0.00   \n",
       "25%          3400.00                             5.00   \n",
       "50%          5400.00                             8.00   \n",
       "75%          8249.00                            11.00   \n",
       "max       3008750.00                            58.00   \n",
       "\n",
       "       NumberOfTimes90DaysLate  NumberRealEstateLoansOrLines  \\\n",
       "count                150000.00                     150000.00   \n",
       "mean                      0.27                          1.02   \n",
       "std                       4.17                          1.13   \n",
       "min                       0.00                          0.00   \n",
       "25%                       0.00                          0.00   \n",
       "50%                       0.00                          1.00   \n",
       "75%                       0.00                          2.00   \n",
       "max                      98.00                         54.00   \n",
       "\n",
       "       NumberOfTime60-89DaysPastDueNotWorse  NumberOfDependents  \n",
       "count                             150000.00           146076.00  \n",
       "mean                                   0.24                0.76  \n",
       "std                                    4.16                1.12  \n",
       "min                                    0.00                0.00  \n",
       "25%                                    0.00                0.00  \n",
       "50%                                    0.00                0.00  \n",
       "75%                                    0.00                1.00  \n",
       "max                                   98.00               20.00  "
      ]
     },
     "execution_count": 5,
     "metadata": {},
     "output_type": "execute_result"
    }
   ],
   "source": [
    "trainData.describe().apply(lambda x:round(x,2))"
   ]
  },
  {
   "cell_type": "code",
   "execution_count": 6,
   "metadata": {},
   "outputs": [
    {
     "data": {
      "text/plain": [
       "['Unnamed: 0',\n",
       " 'SeriousDlqin2yrs',\n",
       " 'RevolvingUtilizationOfUnsecuredLines',\n",
       " 'age',\n",
       " 'NumberOfTime30-59DaysPastDueNotWorse',\n",
       " 'DebtRatio',\n",
       " 'MonthlyIncome',\n",
       " 'NumberOfOpenCreditLinesAndLoans',\n",
       " 'NumberOfTimes90DaysLate',\n",
       " 'NumberRealEstateLoansOrLines',\n",
       " 'NumberOfTime60-89DaysPastDueNotWorse',\n",
       " 'NumberOfDependents']"
      ]
     },
     "execution_count": 6,
     "metadata": {},
     "output_type": "execute_result"
    }
   ],
   "source": [
    "Feature_name =list(trainData.columns)\n",
    "Feature_name"
   ]
  },
  {
   "cell_type": "markdown",
   "metadata": {},
   "source": [
    "# 数据预处理----缺失值、异常值、"
   ]
  },
  {
   "cell_type": "markdown",
   "metadata": {},
   "source": [
    "### 利用随机森林来弥补MonthlyIncome缺失值 ，同时  删除 NumberOfDependents变量缺失部分"
   ]
  },
  {
   "cell_type": "code",
   "execution_count": 7,
   "metadata": {},
   "outputs": [],
   "source": [
    "## 利用随机森林来弥补缺失值 MonthlyIncome \n",
    "def fill_missing(df):\n",
    "    df_monthIncome_missing = df.ix[df['MonthlyIncome'].isnull(),[1,2,3,4,5,7,8,9,10]].values\n",
    "    df_monthIncome_unmissing = df.ix[df['MonthlyIncome'].notnull(),[1,2,3,4,5,7,8,9,10]].values\n",
    "    df_monthIncome_Y =  df.ix[df['MonthlyIncome'].notnull(),[6]].values\n",
    "    # 建立一个训练模型，尽量把误差缩小\n",
    "    train_X,test_X ,train_Y,test_Y = train_test_split(df_monthIncome_unmissing,df_monthIncome_Y,test_size=0.05,random_state =2018,shuffle =True)\n",
    "    model_Reg = RandomForestRegressor(random_state=0,n_estimators=100,max_depth  =8,min_samples_split=6)\n",
    "    model_Reg.fit(train_X,train_Y)\n",
    "    predicted = model_Reg.predict(test_X)\n",
    "    print(\"模型的R^2值为：{0}\".format(round(r2_score(test_Y,predicted),3))) \n",
    "    df.loc[df['MonthlyIncome'].isnull(),['MonthlyIncome']] = model_Reg.predict(df_monthIncome_missing)\n",
    "    return df"
   ]
  },
  {
   "cell_type": "code",
   "execution_count": 8,
   "metadata": {},
   "outputs": [
    {
     "name": "stdout",
     "output_type": "stream",
     "text": [
      "模型的R^2值为：0.71\n"
     ]
    }
   ],
   "source": [
    "trainData =fill_missing(trainData)"
   ]
  },
  {
   "cell_type": "code",
   "execution_count": 9,
   "metadata": {},
   "outputs": [
    {
     "name": "stdout",
     "output_type": "stream",
     "text": [
      "<class 'pandas.core.frame.DataFrame'>\n",
      "RangeIndex: 150000 entries, 0 to 149999\n",
      "Data columns (total 12 columns):\n",
      "Unnamed: 0                              150000 non-null int64\n",
      "SeriousDlqin2yrs                        150000 non-null int64\n",
      "RevolvingUtilizationOfUnsecuredLines    150000 non-null float64\n",
      "age                                     150000 non-null int64\n",
      "NumberOfTime30-59DaysPastDueNotWorse    150000 non-null int64\n",
      "DebtRatio                               150000 non-null float64\n",
      "MonthlyIncome                           150000 non-null float64\n",
      "NumberOfOpenCreditLinesAndLoans         150000 non-null int64\n",
      "NumberOfTimes90DaysLate                 150000 non-null int64\n",
      "NumberRealEstateLoansOrLines            150000 non-null int64\n",
      "NumberOfTime60-89DaysPastDueNotWorse    150000 non-null int64\n",
      "NumberOfDependents                      146076 non-null float64\n",
      "dtypes: float64(4), int64(8)\n",
      "memory usage: 13.7 MB\n"
     ]
    }
   ],
   "source": [
    "trainData.info()"
   ]
  },
  {
   "cell_type": "code",
   "execution_count": 9,
   "metadata": {},
   "outputs": [],
   "source": [
    "##图表分析\n",
    "# plt.boxplot(Target_data['age'])\n",
    "# plt.boxplot(Target_data['NumberOfTimes90DaysLate'])"
   ]
  },
  {
   "cell_type": "code",
   "execution_count": 10,
   "metadata": {},
   "outputs": [],
   "source": [
    "# 删除NumberOfDependents变量缺失部分\n",
    "data = trainData.dropna()\n",
    "Target_data = data.drop_duplicates()\n",
    "# 异常值分析\n",
    "# 年龄大于0\n",
    "Target_data =Target_data[Target_data['age']>0]\n",
    "Target_data =Target_data[Target_data['NumberOfTimes90DaysLate']<90]\n",
    "Target_data['SeriousDlqin2yrs'] = 1-Target_data['SeriousDlqin2yrs']"
   ]
  },
  {
   "cell_type": "code",
   "execution_count": 11,
   "metadata": {},
   "outputs": [
    {
     "data": {
      "text/html": [
       "<div>\n",
       "<style scoped>\n",
       "    .dataframe tbody tr th:only-of-type {\n",
       "        vertical-align: middle;\n",
       "    }\n",
       "\n",
       "    .dataframe tbody tr th {\n",
       "        vertical-align: top;\n",
       "    }\n",
       "\n",
       "    .dataframe thead th {\n",
       "        text-align: right;\n",
       "    }\n",
       "</style>\n",
       "<table border=\"1\" class=\"dataframe\">\n",
       "  <thead>\n",
       "    <tr style=\"text-align: right;\">\n",
       "      <th></th>\n",
       "      <th>Unnamed: 0</th>\n",
       "      <th>SeriousDlqin2yrs</th>\n",
       "      <th>RevolvingUtilizationOfUnsecuredLines</th>\n",
       "      <th>age</th>\n",
       "      <th>NumberOfTime30-59DaysPastDueNotWorse</th>\n",
       "      <th>DebtRatio</th>\n",
       "      <th>MonthlyIncome</th>\n",
       "      <th>NumberOfOpenCreditLinesAndLoans</th>\n",
       "      <th>NumberOfTimes90DaysLate</th>\n",
       "      <th>NumberRealEstateLoansOrLines</th>\n",
       "      <th>NumberOfTime60-89DaysPastDueNotWorse</th>\n",
       "      <th>NumberOfDependents</th>\n",
       "    </tr>\n",
       "  </thead>\n",
       "  <tbody>\n",
       "    <tr>\n",
       "      <th>count</th>\n",
       "      <td>145837.00</td>\n",
       "      <td>145837.00</td>\n",
       "      <td>145837.00</td>\n",
       "      <td>145837.00</td>\n",
       "      <td>145837.00</td>\n",
       "      <td>145837.00</td>\n",
       "      <td>145837.00</td>\n",
       "      <td>145837.00</td>\n",
       "      <td>145837.00</td>\n",
       "      <td>145837.00</td>\n",
       "      <td>145837.00</td>\n",
       "      <td>145837.00</td>\n",
       "    </tr>\n",
       "    <tr>\n",
       "      <th>mean</th>\n",
       "      <td>75015.44</td>\n",
       "      <td>0.93</td>\n",
       "      <td>5.93</td>\n",
       "      <td>52.13</td>\n",
       "      <td>0.25</td>\n",
       "      <td>333.91</td>\n",
       "      <td>5584.29</td>\n",
       "      <td>8.54</td>\n",
       "      <td>0.09</td>\n",
       "      <td>1.03</td>\n",
       "      <td>0.07</td>\n",
       "      <td>0.76</td>\n",
       "    </tr>\n",
       "    <tr>\n",
       "      <th>std</th>\n",
       "      <td>43290.86</td>\n",
       "      <td>0.25</td>\n",
       "      <td>250.28</td>\n",
       "      <td>14.59</td>\n",
       "      <td>0.70</td>\n",
       "      <td>1945.45</td>\n",
       "      <td>13296.49</td>\n",
       "      <td>5.14</td>\n",
       "      <td>0.49</td>\n",
       "      <td>1.13</td>\n",
       "      <td>0.33</td>\n",
       "      <td>1.12</td>\n",
       "    </tr>\n",
       "    <tr>\n",
       "      <th>min</th>\n",
       "      <td>1.00</td>\n",
       "      <td>0.00</td>\n",
       "      <td>0.00</td>\n",
       "      <td>21.00</td>\n",
       "      <td>0.00</td>\n",
       "      <td>0.00</td>\n",
       "      <td>0.00</td>\n",
       "      <td>0.00</td>\n",
       "      <td>0.00</td>\n",
       "      <td>0.00</td>\n",
       "      <td>0.00</td>\n",
       "      <td>0.00</td>\n",
       "    </tr>\n",
       "    <tr>\n",
       "      <th>25%</th>\n",
       "      <td>37537.00</td>\n",
       "      <td>1.00</td>\n",
       "      <td>0.03</td>\n",
       "      <td>41.00</td>\n",
       "      <td>0.00</td>\n",
       "      <td>0.17</td>\n",
       "      <td>2008.00</td>\n",
       "      <td>5.00</td>\n",
       "      <td>0.00</td>\n",
       "      <td>0.00</td>\n",
       "      <td>0.00</td>\n",
       "      <td>0.00</td>\n",
       "    </tr>\n",
       "    <tr>\n",
       "      <th>50%</th>\n",
       "      <td>75018.00</td>\n",
       "      <td>1.00</td>\n",
       "      <td>0.16</td>\n",
       "      <td>52.00</td>\n",
       "      <td>0.00</td>\n",
       "      <td>0.36</td>\n",
       "      <td>4583.00</td>\n",
       "      <td>8.00</td>\n",
       "      <td>0.00</td>\n",
       "      <td>1.00</td>\n",
       "      <td>0.00</td>\n",
       "      <td>0.00</td>\n",
       "    </tr>\n",
       "    <tr>\n",
       "      <th>75%</th>\n",
       "      <td>112498.00</td>\n",
       "      <td>1.00</td>\n",
       "      <td>0.56</td>\n",
       "      <td>62.00</td>\n",
       "      <td>0.00</td>\n",
       "      <td>0.77</td>\n",
       "      <td>7500.00</td>\n",
       "      <td>11.00</td>\n",
       "      <td>0.00</td>\n",
       "      <td>2.00</td>\n",
       "      <td>0.00</td>\n",
       "      <td>1.00</td>\n",
       "    </tr>\n",
       "    <tr>\n",
       "      <th>max</th>\n",
       "      <td>150000.00</td>\n",
       "      <td>1.00</td>\n",
       "      <td>50708.00</td>\n",
       "      <td>107.00</td>\n",
       "      <td>13.00</td>\n",
       "      <td>329664.00</td>\n",
       "      <td>3008750.00</td>\n",
       "      <td>58.00</td>\n",
       "      <td>17.00</td>\n",
       "      <td>54.00</td>\n",
       "      <td>11.00</td>\n",
       "      <td>20.00</td>\n",
       "    </tr>\n",
       "  </tbody>\n",
       "</table>\n",
       "</div>"
      ],
      "text/plain": [
       "       Unnamed: 0  SeriousDlqin2yrs  RevolvingUtilizationOfUnsecuredLines  \\\n",
       "count   145837.00         145837.00                             145837.00   \n",
       "mean     75015.44              0.93                                  5.93   \n",
       "std      43290.86              0.25                                250.28   \n",
       "min          1.00              0.00                                  0.00   \n",
       "25%      37537.00              1.00                                  0.03   \n",
       "50%      75018.00              1.00                                  0.16   \n",
       "75%     112498.00              1.00                                  0.56   \n",
       "max     150000.00              1.00                              50708.00   \n",
       "\n",
       "             age  NumberOfTime30-59DaysPastDueNotWorse  DebtRatio  \\\n",
       "count  145837.00                             145837.00  145837.00   \n",
       "mean       52.13                                  0.25     333.91   \n",
       "std        14.59                                  0.70    1945.45   \n",
       "min        21.00                                  0.00       0.00   \n",
       "25%        41.00                                  0.00       0.17   \n",
       "50%        52.00                                  0.00       0.36   \n",
       "75%        62.00                                  0.00       0.77   \n",
       "max       107.00                                 13.00  329664.00   \n",
       "\n",
       "       MonthlyIncome  NumberOfOpenCreditLinesAndLoans  \\\n",
       "count      145837.00                        145837.00   \n",
       "mean         5584.29                             8.54   \n",
       "std         13296.49                             5.14   \n",
       "min             0.00                             0.00   \n",
       "25%          2008.00                             5.00   \n",
       "50%          4583.00                             8.00   \n",
       "75%          7500.00                            11.00   \n",
       "max       3008750.00                            58.00   \n",
       "\n",
       "       NumberOfTimes90DaysLate  NumberRealEstateLoansOrLines  \\\n",
       "count                145837.00                     145837.00   \n",
       "mean                      0.09                          1.03   \n",
       "std                       0.49                          1.13   \n",
       "min                       0.00                          0.00   \n",
       "25%                       0.00                          0.00   \n",
       "50%                       0.00                          1.00   \n",
       "75%                       0.00                          2.00   \n",
       "max                      17.00                         54.00   \n",
       "\n",
       "       NumberOfTime60-89DaysPastDueNotWorse  NumberOfDependents  \n",
       "count                             145837.00           145837.00  \n",
       "mean                                   0.07                0.76  \n",
       "std                                    0.33                1.12  \n",
       "min                                    0.00                0.00  \n",
       "25%                                    0.00                0.00  \n",
       "50%                                    0.00                0.00  \n",
       "75%                                    0.00                1.00  \n",
       "max                                   11.00               20.00  "
      ]
     },
     "execution_count": 11,
     "metadata": {},
     "output_type": "execute_result"
    }
   ],
   "source": [
    "Target_data.describe().apply(lambda x:round(x,2))"
   ]
  },
  {
   "cell_type": "code",
   "execution_count": 13,
   "metadata": {},
   "outputs": [],
   "source": [
    "# 数据集保留\n",
    "Target_data.iloc[:,1:].to_csv('Traindata_clean.csv',header = True,index = False,sep=',',encoding='utf-8')"
   ]
  },
  {
   "cell_type": "markdown",
   "metadata": {},
   "source": [
    "### 测试填补模型参数"
   ]
  },
  {
   "cell_type": "code",
   "execution_count": 12,
   "metadata": {},
   "outputs": [],
   "source": [
    "# 最佳参数 (100, 8, 6, 0.05\n",
    "# df_monthIncome_missing = trainData.ix[trainData['NumberOfDependents'].isnull(),[1,2,3,4,5,7,8,9,10]].values\n",
    "# df_monthIncome_unmissing = trainData.ix[trainData['NumberOfDependents'].notnull(),[1,2,3,4,5,7,8,9,10]].values\n",
    "# df_monthIncome_Y =  trainData.ix[trainData['NumberOfDependents'].notnull(),[11]].values\n",
    "# n_estimators_list =[100,200];max_depth_list=[4,6,8];min_samples_split_list=[2,4,6];test_size =[0.05,0.1,0.15]\n",
    "# param_list=[(estimators,max_depth,min_sample,size) for estimators in n_estimators_list for max_depth in max_depth_list for min_sample in min_samples_split_list for size in test_size]\n",
    "# accury_score ={}\n",
    "# for i in param_list:\n",
    "#     now = datetime.now()\n",
    "#     print('开始时间为：',now)\n",
    "#     train_X,test_X ,train_Y,test_Y = train_test_split(df_monthIncome_unmissing,df_monthIncome_Y,test_size=i[3],random_state =2018,shuffle =True)\n",
    "#     model_Reg = RandomForestRegressor(random_state=0,n_estimators=i[0],max_depth  =i[1],min_samples_split=i[2])\n",
    "#     model_Reg.fit(train_X,train_Y)\n",
    "#     predicted = model_Reg.predict(test_X)\n",
    "#     R2_score =round(r2_score(test_Y,predicted),3)\n",
    "#     accury_score[i] =R2_score\n",
    "#     print(\"param{0}模型的R^2值为：{1} and timecost is {2}\".format(str(i),R2_score,datetime.now()-now))\n",
    "# print('结束时间为：', datetime.now())"
   ]
  },
  {
   "cell_type": "code",
   "execution_count": 3,
   "metadata": {},
   "outputs": [],
   "source": [
    "Target_data = pd.read_csv('Traindata_lean.csv',sep=',',encoding='utf-8')"
   ]
  },
  {
   "cell_type": "code",
   "execution_count": 51,
   "metadata": {},
   "outputs": [
    {
     "data": {
      "text/plain": [
       "1    136125\n",
       "0      9712\n",
       "Name: SeriousDlqin2yrs, dtype: int64"
      ]
     },
     "execution_count": 51,
     "metadata": {},
     "output_type": "execute_result"
    }
   ],
   "source": [
    "print(\"未违约用户人数：{0} ，其占比{.2f}\"Target_data['SeriousDlqin2yrs'].value_counts()"
   ]
  },
  {
   "cell_type": "markdown",
   "metadata": {},
   "source": [
    "# 变量探索性分析"
   ]
  },
  {
   "cell_type": "code",
   "execution_count": null,
   "metadata": {},
   "outputs": [],
   "source": [
    "# data_corr是系数矩阵\n",
    "data_corr = Target_data.corr()\n",
    "f,ax = plt.subplots(figsize = (10,10))\n",
    "sns.heatmap(data_corr,linewidths=0.3,annot=True,vmax =0.9,vmin=-0.9) # annot显示数值，vmax，vmin设置旁边柱子上的值\n",
    "# ax.set_xticks(Target_data.index)"
   ]
  },
  {
   "cell_type": "code",
   "execution_count": 39,
   "metadata": {},
   "outputs": [
    {
     "data": {
      "image/png": "[encoded data removed]",
      "text/plain": [
       "<Figure size 432x216 with 2 Axes>"
      ]
     },
     "metadata": {},
     "output_type": "display_data"
    }
   ],
   "source": [
    "# 自变量与 Y之间的分布\n",
    "# 违约用户的年龄分布和未违约用户的年龄分布基本一致\n",
    "g = sns.FacetGrid(Target_data, col=\"SeriousDlqin2yrs\")\n",
    "g.map(plt.hist, \"age\",bins = 10);"
   ]
  },
  {
   "cell_type": "code",
   "execution_count": 44,
   "metadata": {},
   "outputs": [
    {
     "data": {
      "image/png": "[encoded data removed]",
      "text/plain": [
       "<Figure size 432x216 with 2 Axes>"
      ]
     },
     "metadata": {},
     "output_type": "display_data"
    }
   ],
   "source": [
    "# NumberOfTime30-59DaysPastDueNotWorse自变量与 Y之间的分布\n",
    "# 违约用户的变量分布和未违约用户的分布基本一致\n",
    "g = sns.FacetGrid(Target_data, col=\"SeriousDlqin2yrs\")\n",
    "g.map(plt.hist, \"NumberOfTime30-59DaysPastDueNotWorse\",bins =20);"
   ]
  },
  {
   "cell_type": "code",
   "execution_count": 49,
   "metadata": {},
   "outputs": [
    {
     "data": {
      "image/png": "[encoded data removed]",
      "text/plain": [
       "<Figure size 432x216 with 2 Axes>"
      ]
     },
     "metadata": {},
     "output_type": "display_data"
    }
   ],
   "source": [
    "# DebtRatio自变量与 Y之间的分布\n",
    "g = sns.FacetGrid(Target_data, col=\"SeriousDlqin2yrs\")\n",
    "g.map(plt.hist, \"DebtRatio\",density=True,bins=10);"
   ]
  },
  {
   "cell_type": "code",
   "execution_count": 52,
   "metadata": {},
   "outputs": [
    {
     "data": {
      "image/png": "[encoded data removed]",
      "text/plain": [
       "<Figure size 432x216 with 2 Axes>"
      ]
     },
     "metadata": {},
     "output_type": "display_data"
    }
   ],
   "source": [
    "# MonthlyIncome自变量与 Y之间的分布\n",
    "g = sns.FacetGrid(Target_data, col=\"SeriousDlqin2yrs\")\n",
    "g.map(plt.hist, \"MonthlyIncome\",bins=100);"
   ]
  },
  {
   "cell_type": "code",
   "execution_count": 54,
   "metadata": {},
   "outputs": [
    {
     "data": {
      "image/png": "[encoded data removed]",
      "text/plain": [
       "<Figure size 432x216 with 2 Axes>"
      ]
     },
     "metadata": {},
     "output_type": "display_data"
    }
   ],
   "source": [
    "# NumberOfOpenCreditLinesAndLoans Y之间的分布\n",
    "g = sns.FacetGrid(Target_data, col=\"SeriousDlqin2yrs\")\n",
    "g.map(plt.hist, \"NumberOfOpenCreditLinesAndLoans\",bins=100);"
   ]
  },
  {
   "cell_type": "code",
   "execution_count": 57,
   "metadata": {},
   "outputs": [
    {
     "data": {
      "image/png": "[encoded data removed]",
      "text/plain": [
       "<Figure size 432x216 with 2 Axes>"
      ]
     },
     "metadata": {},
     "output_type": "display_data"
    }
   ],
   "source": [
    "# NumberRealEstateLoansOrLines Y之间的分布\n",
    "g = sns.FacetGrid(Target_data, col=\"SeriousDlqin2yrs\")\n",
    "g.map(plt.hist, \"NumberRealEstateLoansOrLines\",bins=100);"
   ]
  },
  {
   "cell_type": "code",
   "execution_count": 58,
   "metadata": {},
   "outputs": [
    {
     "data": {
      "image/png": "[encoded data removed]",
      "text/plain": [
       "<Figure size 432x216 with 2 Axes>"
      ]
     },
     "metadata": {},
     "output_type": "display_data"
    }
   ],
   "source": [
    "# NumberOfTimes90DaysLate Y之间的分布\n",
    "g = sns.FacetGrid(Target_data, col=\"SeriousDlqin2yrs\")\n",
    "g.map(plt.hist, \"NumberOfTimes90DaysLate\",bins=100);"
   ]
  },
  {
   "cell_type": "code",
   "execution_count": 59,
   "metadata": {},
   "outputs": [
    {
     "data": {
      "image/png": "[encoded data removed]",
      "text/plain": [
       "<Figure size 432x216 with 2 Axes>"
      ]
     },
     "metadata": {},
     "output_type": "display_data"
    }
   ],
   "source": [
    "# NumberOfTime60-89DaysPastDueNotWorse Y之间的分布\n",
    "g = sns.FacetGrid(Target_data, col=\"SeriousDlqin2yrs\")\n",
    "g.map(plt.hist, \"NumberOfTime60-89DaysPastDueNotWorse\",bins=100);"
   ]
  },
  {
   "cell_type": "code",
   "execution_count": 60,
   "metadata": {},
   "outputs": [
    {
     "data": {
      "image/png": "[encoded data removed]",
      "text/plain": [
       "<Figure size 432x216 with 2 Axes>"
      ]
     },
     "metadata": {},
     "output_type": "display_data"
    }
   ],
   "source": [
    "# NumberOfDependents Y之间的分布\n",
    "g = sns.FacetGrid(Target_data, col=\"SeriousDlqin2yrs\")\n",
    "g.map(plt.hist, \"NumberOfDependents\",bins=100);"
   ]
  },
  {
   "cell_type": "code",
   "execution_count": null,
   "metadata": {},
   "outputs": [],
   "source": []
  },
  {
   "cell_type": "code",
   "execution_count": null,
   "metadata": {},
   "outputs": [],
   "source": []
  }
 ],
 "metadata": {
  "kernelspec": {
   "display_name": "Python 3",
   "language": "python",
   "name": "python3"
  },
  "language_info": {
   "codemirror_mode": {
    "name": "ipython",
    "version": 3
   },
   "file_extension": ".py",
   "mimetype": "text/x-python",
   "name": "python",
   "nbconvert_exporter": "python",
   "pygments_lexer": "ipython3",
   "version": "3.6.5"
  }
 },
 "nbformat": 4,
 "nbformat_minor": 2
}
