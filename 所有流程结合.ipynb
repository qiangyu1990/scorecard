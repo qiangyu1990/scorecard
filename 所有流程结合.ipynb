{
 "cells": [
  {
   "cell_type": "code",
   "execution_count": 17,
   "metadata": {},
   "outputs": [],
   "source": [
    "# 导入需要的包\n",
    "import pandas as pd\n",
    "import numpy as np\n",
    "import matplotlib.pyplot as plt\n",
    "import seaborn as sns\n",
    "import matplotlib.image as mpimg # mpimg 用于读取图片\n",
    "from datetime import datetime\n",
    "from sklearn.model_selection import train_test_split\n",
    "from sklearn.ensemble import RandomForestRegressor,RandomForestClassifier\n",
    "from sklearn.metrics import r2_score\n",
    "import warnings  \n",
    "warnings.filterwarnings(\"ignore\")  \n",
    "%matplotlib inline"
   ]
  },
  {
   "cell_type": "markdown",
   "metadata": {},
   "source": [
    "# 1--获取数据"
   ]
  },
  {
   "cell_type": "code",
   "execution_count": 5,
   "metadata": {},
   "outputs": [],
   "source": [
    "def loadData(Dataname):\n",
    "    Path = 'source/'+str(Dataname)\n",
    "    TextFile = pd.read_csv(Path)\n",
    "    return TextFile\n",
    "trainData = loadData('cs-training.csv')"
   ]
  },
  {
   "cell_type": "markdown",
   "metadata": {},
   "source": [
    "<img src=\"source/Image1.png\"/>"
   ]
  },
  {
   "cell_type": "markdown",
   "metadata": {},
   "source": [
    "## 特征缺失情况：\n",
    "* 月收入和家属数量两个变量出现缺失，分别缺失29731个和3924个"
   ]
  },
  {
   "cell_type": "code",
   "execution_count": 6,
   "metadata": {},
   "outputs": [
    {
     "data": {
      "text/html": [
       "<div>\n",
       "<style scoped>\n",
       "    .dataframe tbody tr th:only-of-type {\n",
       "        vertical-align: middle;\n",
       "    }\n",
       "\n",
       "    .dataframe tbody tr th {\n",
       "        vertical-align: top;\n",
       "    }\n",
       "\n",
       "    .dataframe thead th {\n",
       "        text-align: right;\n",
       "    }\n",
       "</style>\n",
       "<table border=\"1\" class=\"dataframe\">\n",
       "  <thead>\n",
       "    <tr style=\"text-align: right;\">\n",
       "      <th></th>\n",
       "      <th>Unnamed: 0</th>\n",
       "      <th>SeriousDlqin2yrs</th>\n",
       "      <th>RevolvingUtilizationOfUnsecuredLines</th>\n",
       "      <th>age</th>\n",
       "      <th>NumberOfTime30-59DaysPastDueNotWorse</th>\n",
       "      <th>DebtRatio</th>\n",
       "      <th>MonthlyIncome</th>\n",
       "      <th>NumberOfOpenCreditLinesAndLoans</th>\n",
       "      <th>NumberOfTimes90DaysLate</th>\n",
       "      <th>NumberRealEstateLoansOrLines</th>\n",
       "      <th>NumberOfTime60-89DaysPastDueNotWorse</th>\n",
       "      <th>NumberOfDependents</th>\n",
       "    </tr>\n",
       "  </thead>\n",
       "  <tbody>\n",
       "    <tr>\n",
       "      <th>count</th>\n",
       "      <td>150000.00</td>\n",
       "      <td>150000.00</td>\n",
       "      <td>150000.00</td>\n",
       "      <td>150000.00</td>\n",
       "      <td>150000.00</td>\n",
       "      <td>150000.00</td>\n",
       "      <td>120269.00</td>\n",
       "      <td>150000.00</td>\n",
       "      <td>150000.00</td>\n",
       "      <td>150000.00</td>\n",
       "      <td>150000.00</td>\n",
       "      <td>146076.00</td>\n",
       "    </tr>\n",
       "    <tr>\n",
       "      <th>mean</th>\n",
       "      <td>75000.50</td>\n",
       "      <td>0.07</td>\n",
       "      <td>6.05</td>\n",
       "      <td>52.30</td>\n",
       "      <td>0.42</td>\n",
       "      <td>353.01</td>\n",
       "      <td>6670.22</td>\n",
       "      <td>8.45</td>\n",
       "      <td>0.27</td>\n",
       "      <td>1.02</td>\n",
       "      <td>0.24</td>\n",
       "      <td>0.76</td>\n",
       "    </tr>\n",
       "    <tr>\n",
       "      <th>std</th>\n",
       "      <td>43301.41</td>\n",
       "      <td>0.25</td>\n",
       "      <td>249.76</td>\n",
       "      <td>14.77</td>\n",
       "      <td>4.19</td>\n",
       "      <td>2037.82</td>\n",
       "      <td>14384.67</td>\n",
       "      <td>5.15</td>\n",
       "      <td>4.17</td>\n",
       "      <td>1.13</td>\n",
       "      <td>4.16</td>\n",
       "      <td>1.12</td>\n",
       "    </tr>\n",
       "    <tr>\n",
       "      <th>min</th>\n",
       "      <td>1.00</td>\n",
       "      <td>0.00</td>\n",
       "      <td>0.00</td>\n",
       "      <td>0.00</td>\n",
       "      <td>0.00</td>\n",
       "      <td>0.00</td>\n",
       "      <td>0.00</td>\n",
       "      <td>0.00</td>\n",
       "      <td>0.00</td>\n",
       "      <td>0.00</td>\n",
       "      <td>0.00</td>\n",
       "      <td>0.00</td>\n",
       "    </tr>\n",
       "    <tr>\n",
       "      <th>25%</th>\n",
       "      <td>37500.75</td>\n",
       "      <td>0.00</td>\n",
       "      <td>0.03</td>\n",
       "      <td>41.00</td>\n",
       "      <td>0.00</td>\n",
       "      <td>0.18</td>\n",
       "      <td>3400.00</td>\n",
       "      <td>5.00</td>\n",
       "      <td>0.00</td>\n",
       "      <td>0.00</td>\n",
       "      <td>0.00</td>\n",
       "      <td>0.00</td>\n",
       "    </tr>\n",
       "    <tr>\n",
       "      <th>50%</th>\n",
       "      <td>75000.50</td>\n",
       "      <td>0.00</td>\n",
       "      <td>0.15</td>\n",
       "      <td>52.00</td>\n",
       "      <td>0.00</td>\n",
       "      <td>0.37</td>\n",
       "      <td>5400.00</td>\n",
       "      <td>8.00</td>\n",
       "      <td>0.00</td>\n",
       "      <td>1.00</td>\n",
       "      <td>0.00</td>\n",
       "      <td>0.00</td>\n",
       "    </tr>\n",
       "    <tr>\n",
       "      <th>75%</th>\n",
       "      <td>112500.25</td>\n",
       "      <td>0.00</td>\n",
       "      <td>0.56</td>\n",
       "      <td>63.00</td>\n",
       "      <td>0.00</td>\n",
       "      <td>0.87</td>\n",
       "      <td>8249.00</td>\n",
       "      <td>11.00</td>\n",
       "      <td>0.00</td>\n",
       "      <td>2.00</td>\n",
       "      <td>0.00</td>\n",
       "      <td>1.00</td>\n",
       "    </tr>\n",
       "    <tr>\n",
       "      <th>max</th>\n",
       "      <td>150000.00</td>\n",
       "      <td>1.00</td>\n",
       "      <td>50708.00</td>\n",
       "      <td>109.00</td>\n",
       "      <td>98.00</td>\n",
       "      <td>329664.00</td>\n",
       "      <td>3008750.00</td>\n",
       "      <td>58.00</td>\n",
       "      <td>98.00</td>\n",
       "      <td>54.00</td>\n",
       "      <td>98.00</td>\n",
       "      <td>20.00</td>\n",
       "    </tr>\n",
       "  </tbody>\n",
       "</table>\n",
       "</div>"
      ],
      "text/plain": [
       "       Unnamed: 0  SeriousDlqin2yrs  RevolvingUtilizationOfUnsecuredLines  \\\n",
       "count   150000.00         150000.00                             150000.00   \n",
       "mean     75000.50              0.07                                  6.05   \n",
       "std      43301.41              0.25                                249.76   \n",
       "min          1.00              0.00                                  0.00   \n",
       "25%      37500.75              0.00                                  0.03   \n",
       "50%      75000.50              0.00                                  0.15   \n",
       "75%     112500.25              0.00                                  0.56   \n",
       "max     150000.00              1.00                              50708.00   \n",
       "\n",
       "             age  NumberOfTime30-59DaysPastDueNotWorse  DebtRatio  \\\n",
       "count  150000.00                             150000.00  150000.00   \n",
       "mean       52.30                                  0.42     353.01   \n",
       "std        14.77                                  4.19    2037.82   \n",
       "min         0.00                                  0.00       0.00   \n",
       "25%        41.00                                  0.00       0.18   \n",
       "50%        52.00                                  0.00       0.37   \n",
       "75%        63.00                                  0.00       0.87   \n",
       "max       109.00                                 98.00  329664.00   \n",
       "\n",
       "       MonthlyIncome  NumberOfOpenCreditLinesAndLoans  \\\n",
       "count      120269.00                        150000.00   \n",
       "mean         6670.22                             8.45   \n",
       "std         14384.67                             5.15   \n",
       "min             0.00                             0.00   \n",
       "25%          3400.00                             5.00   \n",
       "50%          5400.00                             8.00   \n",
       "75%          8249.00                            11.00   \n",
       "max       3008750.00                            58.00   \n",
       "\n",
       "       NumberOfTimes90DaysLate  NumberRealEstateLoansOrLines  \\\n",
       "count                150000.00                     150000.00   \n",
       "mean                      0.27                          1.02   \n",
       "std                       4.17                          1.13   \n",
       "min                       0.00                          0.00   \n",
       "25%                       0.00                          0.00   \n",
       "50%                       0.00                          1.00   \n",
       "75%                       0.00                          2.00   \n",
       "max                      98.00                         54.00   \n",
       "\n",
       "       NumberOfTime60-89DaysPastDueNotWorse  NumberOfDependents  \n",
       "count                             150000.00           146076.00  \n",
       "mean                                   0.24                0.76  \n",
       "std                                    4.16                1.12  \n",
       "min                                    0.00                0.00  \n",
       "25%                                    0.00                0.00  \n",
       "50%                                    0.00                0.00  \n",
       "75%                                    0.00                1.00  \n",
       "max                                   98.00               20.00  "
      ]
     },
     "execution_count": 6,
     "metadata": {},
     "output_type": "execute_result"
    }
   ],
   "source": [
    "trainData.describe().apply(lambda x:round(x,2))"
   ]
  },
  {
   "cell_type": "markdown",
   "metadata": {},
   "source": [
    "## 数据预处理----缺失值、异常值、"
   ]
  },
  {
   "cell_type": "markdown",
   "metadata": {},
   "source": [
    "### 利用随机森林来弥补MonthlyIncome缺失值 ，同时删除 NumberOfDependents变量缺失部分"
   ]
  },
  {
   "cell_type": "code",
   "execution_count": 18,
   "metadata": {},
   "outputs": [],
   "source": [
    "## 利用随机森林来弥补缺失值 MonthlyIncome \n",
    "def fill_missing(df):\n",
    "    df_monthIncome_missing = df.ix[df['MonthlyIncome'].isnull(),[1,2,3,4,5,7,8,9,10]].values\n",
    "    df_monthIncome_unmissing = df.ix[df['MonthlyIncome'].notnull(),[1,2,3,4,5,7,8,9,10]].values\n",
    "    df_monthIncome_Y =  df.ix[df['MonthlyIncome'].notnull(),[6]].values\n",
    "    # 建立一个训练模型，尽量把误差缩小\n",
    "    train_X,test_X ,train_Y,test_Y = train_test_split(df_monthIncome_unmissing,df_monthIncome_Y,test_size=0.05,random_state =2018,shuffle =True)\n",
    "    model_Reg = RandomForestRegressor(random_state=0,n_estimators=100,max_depth  =8,min_samples_split=6,n_jobs=6)\n",
    "    model_Reg.fit(train_X,train_Y)\n",
    "    predicted = model_Reg.predict(test_X)\n",
    "    print(\"模型的R^2值为：{0}\".format(round(r2_score(test_Y,predicted),3))) \n",
    "    df.loc[df['MonthlyIncome'].isnull(),['MonthlyIncome']] = model_Reg.predict(df_monthIncome_missing)\n",
    "    return df"
   ]
  },
  {
   "cell_type": "code",
   "execution_count": 19,
   "metadata": {},
   "outputs": [
    {
     "name": "stdout",
     "output_type": "stream",
     "text": [
      "模型的R^2值为：0.71\n"
     ]
    }
   ],
   "source": [
    "trainData =fill_missing(trainData)"
   ]
  },
  {
   "cell_type": "markdown",
   "metadata": {},
   "source": [
    "### 其他部分异常值处理"
   ]
  },
  {
   "cell_type": "code",
   "execution_count": null,
   "metadata": {},
   "outputs": [],
   "source": [
    "# 删除NumberOfDependents变量缺失部分\n",
    "data = trainData.dropna()\n",
    "Target_data = data.drop_duplicates()\n",
    "# 异常值分析\n",
    "# 年龄大于0\n",
    "Target_data =Target_data[Target_data['age']>0]\n",
    "Target_data =Target_data[Target_data['NumberOfTimes90DaysLate']<90]\n",
    "Target_data['SeriousDlqin2yrs'] = 1-Target_data['SeriousDlqin2yrs']"
   ]
  },
  {
   "cell_type": "code",
   "execution_count": 4,
   "metadata": {},
   "outputs": [
    {
     "data": {
      "text/html": [
       "<div>\n",
       "<style scoped>\n",
       "    .dataframe tbody tr th:only-of-type {\n",
       "        vertical-align: middle;\n",
       "    }\n",
       "\n",
       "    .dataframe tbody tr th {\n",
       "        vertical-align: top;\n",
       "    }\n",
       "\n",
       "    .dataframe thead th {\n",
       "        text-align: right;\n",
       "    }\n",
       "</style>\n",
       "<table border=\"1\" class=\"dataframe\">\n",
       "  <thead>\n",
       "    <tr style=\"text-align: right;\">\n",
       "      <th></th>\n",
       "      <th>SeriousDlqin2yrs</th>\n",
       "      <th>RevolvingUtilizationOfUnsecuredLines</th>\n",
       "      <th>age</th>\n",
       "      <th>NumberOfTime30-59DaysPastDueNotWorse</th>\n",
       "      <th>DebtRatio</th>\n",
       "      <th>MonthlyIncome</th>\n",
       "      <th>NumberOfOpenCreditLinesAndLoans</th>\n",
       "      <th>NumberOfTimes90DaysLate</th>\n",
       "      <th>NumberRealEstateLoansOrLines</th>\n",
       "      <th>NumberOfTime60-89DaysPastDueNotWorse</th>\n",
       "      <th>NumberOfDependents</th>\n",
       "    </tr>\n",
       "  </thead>\n",
       "  <tbody>\n",
       "    <tr>\n",
       "      <th>count</th>\n",
       "      <td>145837.00</td>\n",
       "      <td>145837.00</td>\n",
       "      <td>145837.00</td>\n",
       "      <td>145837.00</td>\n",
       "      <td>145837.00</td>\n",
       "      <td>145837.00</td>\n",
       "      <td>145837.00</td>\n",
       "      <td>145837.00</td>\n",
       "      <td>145837.00</td>\n",
       "      <td>145837.00</td>\n",
       "      <td>145837.00</td>\n",
       "    </tr>\n",
       "    <tr>\n",
       "      <th>mean</th>\n",
       "      <td>0.93</td>\n",
       "      <td>5.93</td>\n",
       "      <td>52.13</td>\n",
       "      <td>0.25</td>\n",
       "      <td>333.91</td>\n",
       "      <td>5584.29</td>\n",
       "      <td>8.54</td>\n",
       "      <td>0.09</td>\n",
       "      <td>1.03</td>\n",
       "      <td>0.07</td>\n",
       "      <td>0.76</td>\n",
       "    </tr>\n",
       "    <tr>\n",
       "      <th>std</th>\n",
       "      <td>0.25</td>\n",
       "      <td>250.28</td>\n",
       "      <td>14.59</td>\n",
       "      <td>0.70</td>\n",
       "      <td>1945.45</td>\n",
       "      <td>13296.49</td>\n",
       "      <td>5.14</td>\n",
       "      <td>0.49</td>\n",
       "      <td>1.13</td>\n",
       "      <td>0.33</td>\n",
       "      <td>1.12</td>\n",
       "    </tr>\n",
       "    <tr>\n",
       "      <th>min</th>\n",
       "      <td>0.00</td>\n",
       "      <td>0.00</td>\n",
       "      <td>21.00</td>\n",
       "      <td>0.00</td>\n",
       "      <td>0.00</td>\n",
       "      <td>0.00</td>\n",
       "      <td>0.00</td>\n",
       "      <td>0.00</td>\n",
       "      <td>0.00</td>\n",
       "      <td>0.00</td>\n",
       "      <td>0.00</td>\n",
       "    </tr>\n",
       "    <tr>\n",
       "      <th>25%</th>\n",
       "      <td>1.00</td>\n",
       "      <td>0.03</td>\n",
       "      <td>41.00</td>\n",
       "      <td>0.00</td>\n",
       "      <td>0.17</td>\n",
       "      <td>2008.00</td>\n",
       "      <td>5.00</td>\n",
       "      <td>0.00</td>\n",
       "      <td>0.00</td>\n",
       "      <td>0.00</td>\n",
       "      <td>0.00</td>\n",
       "    </tr>\n",
       "    <tr>\n",
       "      <th>50%</th>\n",
       "      <td>1.00</td>\n",
       "      <td>0.16</td>\n",
       "      <td>52.00</td>\n",
       "      <td>0.00</td>\n",
       "      <td>0.36</td>\n",
       "      <td>4583.00</td>\n",
       "      <td>8.00</td>\n",
       "      <td>0.00</td>\n",
       "      <td>1.00</td>\n",
       "      <td>0.00</td>\n",
       "      <td>0.00</td>\n",
       "    </tr>\n",
       "    <tr>\n",
       "      <th>75%</th>\n",
       "      <td>1.00</td>\n",
       "      <td>0.56</td>\n",
       "      <td>62.00</td>\n",
       "      <td>0.00</td>\n",
       "      <td>0.77</td>\n",
       "      <td>7500.00</td>\n",
       "      <td>11.00</td>\n",
       "      <td>0.00</td>\n",
       "      <td>2.00</td>\n",
       "      <td>0.00</td>\n",
       "      <td>1.00</td>\n",
       "    </tr>\n",
       "    <tr>\n",
       "      <th>max</th>\n",
       "      <td>1.00</td>\n",
       "      <td>50708.00</td>\n",
       "      <td>107.00</td>\n",
       "      <td>13.00</td>\n",
       "      <td>329664.00</td>\n",
       "      <td>3008750.00</td>\n",
       "      <td>58.00</td>\n",
       "      <td>17.00</td>\n",
       "      <td>54.00</td>\n",
       "      <td>11.00</td>\n",
       "      <td>20.00</td>\n",
       "    </tr>\n",
       "  </tbody>\n",
       "</table>\n",
       "</div>"
      ],
      "text/plain": [
       "       SeriousDlqin2yrs  RevolvingUtilizationOfUnsecuredLines        age  \\\n",
       "count         145837.00                             145837.00  145837.00   \n",
       "mean               0.93                                  5.93      52.13   \n",
       "std                0.25                                250.28      14.59   \n",
       "min                0.00                                  0.00      21.00   \n",
       "25%                1.00                                  0.03      41.00   \n",
       "50%                1.00                                  0.16      52.00   \n",
       "75%                1.00                                  0.56      62.00   \n",
       "max                1.00                              50708.00     107.00   \n",
       "\n",
       "       NumberOfTime30-59DaysPastDueNotWorse  DebtRatio  MonthlyIncome  \\\n",
       "count                             145837.00  145837.00      145837.00   \n",
       "mean                                   0.25     333.91        5584.29   \n",
       "std                                    0.70    1945.45       13296.49   \n",
       "min                                    0.00       0.00           0.00   \n",
       "25%                                    0.00       0.17        2008.00   \n",
       "50%                                    0.00       0.36        4583.00   \n",
       "75%                                    0.00       0.77        7500.00   \n",
       "max                                   13.00  329664.00     3008750.00   \n",
       "\n",
       "       NumberOfOpenCreditLinesAndLoans  NumberOfTimes90DaysLate  \\\n",
       "count                        145837.00                145837.00   \n",
       "mean                              8.54                     0.09   \n",
       "std                               5.14                     0.49   \n",
       "min                               0.00                     0.00   \n",
       "25%                               5.00                     0.00   \n",
       "50%                               8.00                     0.00   \n",
       "75%                              11.00                     0.00   \n",
       "max                              58.00                    17.00   \n",
       "\n",
       "       NumberRealEstateLoansOrLines  NumberOfTime60-89DaysPastDueNotWorse  \\\n",
       "count                     145837.00                             145837.00   \n",
       "mean                           1.03                                  0.07   \n",
       "std                            1.13                                  0.33   \n",
       "min                            0.00                                  0.00   \n",
       "25%                            0.00                                  0.00   \n",
       "50%                            1.00                                  0.00   \n",
       "75%                            2.00                                  0.00   \n",
       "max                           54.00                                 11.00   \n",
       "\n",
       "       NumberOfDependents  \n",
       "count           145837.00  \n",
       "mean                 0.76  \n",
       "std                  1.12  \n",
       "min                  0.00  \n",
       "25%                  0.00  \n",
       "50%                  0.00  \n",
       "75%                  1.00  \n",
       "max                 20.00  "
      ]
     },
     "execution_count": 4,
     "metadata": {},
     "output_type": "execute_result"
    }
   ],
   "source": [
    "Target_data = pd.read_csv('Traindata_clean.csv',sep=',',encoding='utf-8')\n",
    "Target_data.describe().apply(lambda x:round(x,2))"
   ]
  },
  {
   "cell_type": "code",
   "execution_count": 5,
   "metadata": {},
   "outputs": [
    {
     "name": "stdout",
     "output_type": "stream",
     "text": [
      "1    136125\n",
      "0      9712\n",
      "Name: SeriousDlqin2yrs, dtype: int64\n"
     ]
    }
   ],
   "source": [
    "# Target_data = Target_data.drop('Unnamed: 0',axis=1)\n",
    "print(Target_data['SeriousDlqin2yrs'].value_counts())"
   ]
  },
  {
   "cell_type": "code",
   "execution_count": 6,
   "metadata": {},
   "outputs": [],
   "source": [
    "X,y = Target_data.iloc[:,1:],Target_data['SeriousDlqin2yrs']"
   ]
  },
  {
   "cell_type": "code",
   "execution_count": 4,
   "metadata": {},
   "outputs": [
    {
     "ename": "NameError",
     "evalue": "name 'X' is not defined",
     "output_type": "error",
     "traceback": [
      "\u001b[1;31m---------------------------------------------------------------------------\u001b[0m",
      "\u001b[1;31mNameError\u001b[0m                                 Traceback (most recent call last)",
      "\u001b[1;32m<ipython-input-4-bf2764670384>\u001b[0m in \u001b[0;36m<module>\u001b[1;34m()\u001b[0m\n\u001b[1;32m----> 1\u001b[1;33m \u001b[0mX\u001b[0m\u001b[1;33m.\u001b[0m\u001b[0mhead\u001b[0m\u001b[1;33m(\u001b[0m\u001b[1;36m3\u001b[0m\u001b[1;33m)\u001b[0m\u001b[1;33m\u001b[0m\u001b[0m\n\u001b[0m",
      "\u001b[1;31mNameError\u001b[0m: name 'X' is not defined"
     ]
    }
   ],
   "source": [
    "X.head(3)"
   ]
  },
  {
   "cell_type": "markdown",
   "metadata": {},
   "source": [
    "### 建立类失衡处理_class,包含三种方法\n",
    "1. smote函数、RandomOverSampler（两种过采样方法）\n",
    "2. underSampler（一种欠采样方法）"
   ]
  },
  {
   "cell_type": "code",
   "execution_count": 20,
   "metadata": {
    "scrolled": true
   },
   "outputs": [],
   "source": [
    "from collections import Counter\n",
    "from imblearn.over_sampling import SMOTE\n",
    "from imblearn.over_sampling import RandomOverSampler\n",
    "from imblearn.under_sampling import RandomUnderSampler\n",
    "class class_imbalances:\n",
    "    def __init__(self,data_X,data_y,ratio,random_state):\n",
    "        self.X = data_X\n",
    "        self.y= data_y\n",
    "        self.ratio = ratio\n",
    "        self.random_state = random_state\n",
    "    def class_imbalances_Oversampler_SMOTE(self):\n",
    "        '''SMOTE过采样即对少类样本进行smote函数生成成指定N个少类样本集，N个少数样本和全部的多类样本组成新的数据集'''\n",
    "        X_resampled,y_resampled = SMOTE(ratio = self.ratio).fit_sample(self.X,self.y)\n",
    "        print(\"源数据y的分布\",sorted(Counter(self.y).items()))\n",
    "        print(\"SMOTE过采样源数据y的分布\",sorted(Counter(y_resampled).items()))\n",
    "        return (X_resampled,y_resampled)\n",
    "    def class_imbalances_RandomOverSample(self):\n",
    "        ''' 过采样即从少类样本中复制 N*[少类样本个数]个数，和全部的多类样本组成新的数据集'''\n",
    "        ros = RandomOverSampler(random_state=2018,ratio=self.ratio)\n",
    "        X_resampled,y_resampled = ros.fit_sample(self.X,self.y)\n",
    "        print(\"源数据y的分布\",sorted(Counter(self.y).items()))\n",
    "        print(\"RandomOverSample过采样源数据y的分布\",sorted(Counter(y_resampled).items()))\n",
    "        return (X_resampled,y_resampled)\n",
    "    def class_imbalances_UnderSample(self):\n",
    "        ''' 欠采样即从多类样本中挑选N*[少类样本个数]个多类样本个数，和全部的少类样本组成新的数据集'''\n",
    "        RUS =  RandomUnderSampler(ratio=self.ratio,random_state=2018)\n",
    "        X_resampled,y_resampled = RUS.fit_sample(self.X,self.y)\n",
    "        print(\"源数据y的分布\",sorted(Counter(self.y).items()))\n",
    "        print(\"Undersample欠采样源数据y的分布\",sorted(Counter(y_resampled).items()))\n",
    "        return (X_resampled,y_resampled)"
   ]
  },
  {
   "cell_type": "markdown",
   "metadata": {},
   "source": [
    "## 类失衡处理后数据分布情况"
   ]
  },
  {
   "cell_type": "code",
   "execution_count": 11,
   "metadata": {},
   "outputs": [
    {
     "name": "stdout",
     "output_type": "stream",
     "text": [
      "源数据y的分布 [(0, 9712), (1, 136125)]\n",
      "SMOTE过采样源数据y的分布 [(0, 40837), (1, 136125)]\n"
     ]
    }
   ],
   "source": [
    "imbalance = class_imbalances(data_X=X,data_y=y,random_state=2018,ratio=0.3)\n",
    "X_resampled,y_resampled = imbalance.class_imbalances_Oversampler_SMOTE()"
   ]
  },
  {
   "cell_type": "code",
   "execution_count": 37,
   "metadata": {},
   "outputs": [
    {
     "name": "stdout",
     "output_type": "stream",
     "text": [
      "源数据y的分布 [(0, 9712), (1, 136125)]\n",
      "RandomOverSample过采样源数据y的分布 [(0, 40837), (1, 136125)]\n"
     ]
    }
   ],
   "source": [
    "# imbalance = class_imbalances(data_X=X,data_y=y,random_state=2018,ratio=0.3)\n",
    "# X_resampled,y_resampled = imbalance.class_imbalances_RandomOverSample()"
   ]
  },
  {
   "cell_type": "code",
   "execution_count": 44,
   "metadata": {},
   "outputs": [
    {
     "name": "stdout",
     "output_type": "stream",
     "text": [
      "源数据y的分布 [(0, 9712), (1, 136125)]\n",
      "Undersample欠采样源数据y的分布 [(0, 9712), (1, 48560)]\n"
     ]
    }
   ],
   "source": [
    "# imbalance = class_imbalances(data_X=X,data_y=y,random_state=2018,ratio=0.2)\n",
    "# X_resampled,y_resampled = imbalance.class_imbalances_UnderSample()"
   ]
  },
  {
   "cell_type": "markdown",
   "metadata": {},
   "source": [
    "## 三种变量选择的方法\n",
    "1. selectBest： 是一种基于p-values值的是否显著性来进行排序，显著则保留top K个\n",
    "2. selectFromModel 方法 是一种基于变量的feature_importance 来进行判断，大于threshold则保留，否则放弃\n",
    "3. 利用LogisticsRegression回归中的逐步回来来筛选变量"
   ]
  },
  {
   "cell_type": "code",
   "execution_count": 44,
   "metadata": {},
   "outputs": [],
   "source": [
    "from sklearn.linear_model import LogisticRegressionCV\n",
    "from sklearn.ensemble import RandomForestClassifier\n",
    "from sklearn.feature_selection import SelectFromModel\n",
    "from sklearn.model_selection import train_test_split\n",
    "class class_FeatureSelect:\n",
    "    def __init__(self,data_X,data_y,random_state,n_jobs=4):\n",
    "        self.X = data_X\n",
    "        self.y= data_y\n",
    "        self.random_state = random_state\n",
    "        self.start_time = datetime.now()\n",
    "        self.njobs =n_jobs\n",
    "    def Select_Feature(self):\n",
    "        score_estimator ={}\n",
    "        clf =LogisticRegressionCV(cv=5,penalty='l2',scoring=None,random_state=self.random_state, solver='lbfgs')\n",
    "        for i in range(1,self.X.shape[1]+1):\n",
    "            # 建立变量选择模型\n",
    "            SK = SelectKBest(k=i)\n",
    "            # 获取指定数量的特征\n",
    "            X_new =SK.fit_transform(self.X,self.y)\n",
    "            # 建立分类模型进行评估\n",
    "            clf.fit(X_new,self.y)\n",
    "            score =clf.score(X_new,self.y)\n",
    "            score_estimator[i] =score\n",
    "        # 模型得分进行排序取最大值的特征个数\n",
    "        best_FeatureNum =sorted(score_estimator.items(),key=lambda x:x[1],reverse= True)[0][0]\n",
    "        SK = SelectKBest(k=best_FeatureNum)\n",
    "        # 获取指定最优数量的特征\n",
    "        X_Best =SK.fit_transform(self.X,self.y)\n",
    "        clf.fit(X_Best,self.y)\n",
    "        print(\"原始数据集的变量个数{0}\".format(self.X.shape[1]))\n",
    "        print(\"SelectKBest筛选后数据集的变量个数{0}\".format(X_Best.shape[1]))\n",
    "        print(\"SelectKbest模型的得分是:\",clf.score(X_Best,self.y))\n",
    "        print(\"total process cost time is {0}\".format(datetime.now()-self.start_time))\n",
    "        return X_Best\n",
    "    def Select_FromModel(self):\n",
    "        accuracy_score ={}\n",
    "        model = RandomForestClassifier(n_estimators=100,random_state=self.random_state,n_jobs =  self.njobs)\n",
    "        for i in range(1,13):\n",
    "            # 模型得分进行排序取最大值的特征个数\n",
    "            sfm = SelectFromModel(model,threshold=\"{0}*mean\".format(float(i*0.1)))\n",
    "            # 获取指定最优数量的特征\n",
    "            X_new =sfm.fit_transform(self.X,self.y)\n",
    "            X_train, X_test, Y_trian, Y_test = train_test_split(X_new,self.y,test_size=0.2,stratify=self.y)\n",
    "            model.fit(X_train, Y_trian)\n",
    "            predicted = model.predict(X_test)\n",
    "            print(\"i ={0}时准确率为：{1}\".format(i,sum(predicted == Y_test)/len(Y_test)))\n",
    "            accuracy_score[i] = sum(predicted == Y_test)/len(Y_test)\n",
    "        # 模型得分进行排序取最大值的特征个数\n",
    "        best_Num =sorted(accuracy_score.items(),key=lambda x:x[1],reverse= True)[0][0]\n",
    "        sfm = SelectFromModel(model,threshold=\"{0}*mean\".format(float(best_Num*0.1)))\n",
    "        # 获取指定最优数量的特征\n",
    "        X_Best =sfm.fit_transform(self.X,self.y)\n",
    "        model.fit(X_Best,self.y)\n",
    "        print(\"原始数据集的变量个数{0}\".format(self.X.shape[1]))\n",
    "        print(\"SelectKBest筛选后数据集的变量个数{0} and threshold is {1}*mean\".format(X_Best.shape[1],best_Num))\n",
    "        print(\"SelectKbest模型的得分是:\",accuracy_score[best_Num])\n",
    "        print(\"total process cost time is {0}\".format(datetime.now()-self.start_time))\n",
    "        return X_Best"
   ]
  },
  {
   "cell_type": "code",
   "execution_count": 45,
   "metadata": {},
   "outputs": [],
   "source": [
    "FeatureSelect  = class_FeatureSelect(data_X = X_resampled,data_y=y_resampled,random_state=2018,n_jobs=6)"
   ]
  },
  {
   "cell_type": "code",
   "execution_count": 46,
   "metadata": {},
   "outputs": [
    {
     "name": "stdout",
     "output_type": "stream",
     "text": [
      "i =1时准确率为：0.9430113299239963\n",
      "i =2时准确率为：0.9453846805865567\n",
      "i =3时准确率为：0.9442827677789394\n",
      "i =4时准确率为：0.9445370553499279\n",
      "i =5时准确率为：0.9420789421637047\n",
      "i =6时准确率为：0.9370214449184867\n",
      "i =7时准确率为：0.9061678863052016\n",
      "i =8时准确率为：0.8825473963778149\n",
      "i =9时准确率为：0.8811911959992089\n",
      "i =10时准确率为：0.9192213149492837\n",
      "i =11时准确率为：0.9126946006272427\n",
      "i =12时准确率为：0.9129771423727856\n",
      "原始数据集的变量个数10\n",
      "SelectKBest筛选后数据集的变量个数10 and threshold is 2*mean\n",
      "SelectKbest模型的得分是: 0.9453846805865567\n",
      "total process cost time is 0:03:36.502325\n"
     ]
    }
   ],
   "source": [
    "X_best_select =FeatureSelect.Select_FromModel()"
   ]
  },
  {
   "cell_type": "code",
   "execution_count": 96,
   "metadata": {},
   "outputs": [],
   "source": [
    "# 数据集保存\n",
    "colname =list(Target_data.columns)\n",
    "data_Smote =pd.DataFrame(np.concatenate((y_resampled.reshape(-1,1),X_best_select),axis=1),columns=colname)"
   ]
  },
  {
   "cell_type": "code",
   "execution_count": 97,
   "metadata": {},
   "outputs": [
    {
     "data": {
      "text/html": [
       "<div>\n",
       "<style scoped>\n",
       "    .dataframe tbody tr th:only-of-type {\n",
       "        vertical-align: middle;\n",
       "    }\n",
       "\n",
       "    .dataframe tbody tr th {\n",
       "        vertical-align: top;\n",
       "    }\n",
       "\n",
       "    .dataframe thead th {\n",
       "        text-align: right;\n",
       "    }\n",
       "</style>\n",
       "<table border=\"1\" class=\"dataframe\">\n",
       "  <thead>\n",
       "    <tr style=\"text-align: right;\">\n",
       "      <th></th>\n",
       "      <th>SeriousDlqin2yrs</th>\n",
       "      <th>RevolvingUtilizationOfUnsecuredLines</th>\n",
       "      <th>age</th>\n",
       "      <th>NumberOfTime30-59DaysPastDueNotWorse</th>\n",
       "      <th>DebtRatio</th>\n",
       "      <th>MonthlyIncome</th>\n",
       "      <th>NumberOfOpenCreditLinesAndLoans</th>\n",
       "      <th>NumberOfTimes90DaysLate</th>\n",
       "      <th>NumberRealEstateLoansOrLines</th>\n",
       "      <th>NumberOfTime60-89DaysPastDueNotWorse</th>\n",
       "      <th>NumberOfDependents</th>\n",
       "    </tr>\n",
       "  </thead>\n",
       "  <tbody>\n",
       "    <tr>\n",
       "      <th>0</th>\n",
       "      <td>0.0</td>\n",
       "      <td>0.766127</td>\n",
       "      <td>45.0</td>\n",
       "      <td>2.0</td>\n",
       "      <td>0.802982</td>\n",
       "      <td>9120.0</td>\n",
       "      <td>13.0</td>\n",
       "      <td>0.0</td>\n",
       "      <td>6.0</td>\n",
       "      <td>0.0</td>\n",
       "      <td>2.0</td>\n",
       "    </tr>\n",
       "    <tr>\n",
       "      <th>1</th>\n",
       "      <td>1.0</td>\n",
       "      <td>0.957151</td>\n",
       "      <td>40.0</td>\n",
       "      <td>0.0</td>\n",
       "      <td>0.121876</td>\n",
       "      <td>2600.0</td>\n",
       "      <td>4.0</td>\n",
       "      <td>0.0</td>\n",
       "      <td>0.0</td>\n",
       "      <td>0.0</td>\n",
       "      <td>1.0</td>\n",
       "    </tr>\n",
       "  </tbody>\n",
       "</table>\n",
       "</div>"
      ],
      "text/plain": [
       "   SeriousDlqin2yrs  RevolvingUtilizationOfUnsecuredLines   age  \\\n",
       "0               0.0                              0.766127  45.0   \n",
       "1               1.0                              0.957151  40.0   \n",
       "\n",
       "   NumberOfTime30-59DaysPastDueNotWorse  DebtRatio  MonthlyIncome  \\\n",
       "0                                   2.0   0.802982         9120.0   \n",
       "1                                   0.0   0.121876         2600.0   \n",
       "\n",
       "   NumberOfOpenCreditLinesAndLoans  NumberOfTimes90DaysLate  \\\n",
       "0                             13.0                      0.0   \n",
       "1                              4.0                      0.0   \n",
       "\n",
       "   NumberRealEstateLoansOrLines  NumberOfTime60-89DaysPastDueNotWorse  \\\n",
       "0                           6.0                                   0.0   \n",
       "1                           0.0                                   0.0   \n",
       "\n",
       "   NumberOfDependents  \n",
       "0                 2.0  \n",
       "1                 1.0  "
      ]
     },
     "execution_count": 97,
     "metadata": {},
     "output_type": "execute_result"
    }
   ],
   "source": [
    "data_Smote.head(2)"
   ]
  },
  {
   "cell_type": "markdown",
   "metadata": {},
   "source": [
    "### 数据集保存"
   ]
  },
  {
   "cell_type": "code",
   "execution_count": 49,
   "metadata": {},
   "outputs": [
    {
     "data": {
      "text/html": [
       "<div>\n",
       "<style scoped>\n",
       "    .dataframe tbody tr th:only-of-type {\n",
       "        vertical-align: middle;\n",
       "    }\n",
       "\n",
       "    .dataframe tbody tr th {\n",
       "        vertical-align: top;\n",
       "    }\n",
       "\n",
       "    .dataframe thead th {\n",
       "        text-align: right;\n",
       "    }\n",
       "</style>\n",
       "<table border=\"1\" class=\"dataframe\">\n",
       "  <thead>\n",
       "    <tr style=\"text-align: right;\">\n",
       "      <th></th>\n",
       "      <th>SeriousDlqin2yrs</th>\n",
       "      <th>RevolvingUtilizationOfUnsecuredLines</th>\n",
       "      <th>age</th>\n",
       "      <th>NumberOfTime30-59DaysPastDueNotWorse</th>\n",
       "      <th>DebtRatio</th>\n",
       "      <th>MonthlyIncome</th>\n",
       "      <th>NumberOfOpenCreditLinesAndLoans</th>\n",
       "      <th>NumberOfTimes90DaysLate</th>\n",
       "      <th>NumberRealEstateLoansOrLines</th>\n",
       "      <th>NumberOfTime60-89DaysPastDueNotWorse</th>\n",
       "      <th>NumberOfDependents</th>\n",
       "    </tr>\n",
       "  </thead>\n",
       "  <tbody>\n",
       "    <tr>\n",
       "      <th>0</th>\n",
       "      <td>0</td>\n",
       "      <td>0.766127</td>\n",
       "      <td>45</td>\n",
       "      <td>2</td>\n",
       "      <td>0.802982</td>\n",
       "      <td>9120.0</td>\n",
       "      <td>13</td>\n",
       "      <td>0</td>\n",
       "      <td>6</td>\n",
       "      <td>0</td>\n",
       "      <td>2.0</td>\n",
       "    </tr>\n",
       "    <tr>\n",
       "      <th>1</th>\n",
       "      <td>1</td>\n",
       "      <td>0.957151</td>\n",
       "      <td>40</td>\n",
       "      <td>0</td>\n",
       "      <td>0.121876</td>\n",
       "      <td>2600.0</td>\n",
       "      <td>4</td>\n",
       "      <td>0</td>\n",
       "      <td>0</td>\n",
       "      <td>0</td>\n",
       "      <td>1.0</td>\n",
       "    </tr>\n",
       "    <tr>\n",
       "      <th>2</th>\n",
       "      <td>1</td>\n",
       "      <td>0.658180</td>\n",
       "      <td>38</td>\n",
       "      <td>1</td>\n",
       "      <td>0.085113</td>\n",
       "      <td>3042.0</td>\n",
       "      <td>2</td>\n",
       "      <td>1</td>\n",
       "      <td>0</td>\n",
       "      <td>0</td>\n",
       "      <td>0.0</td>\n",
       "    </tr>\n",
       "  </tbody>\n",
       "</table>\n",
       "</div>"
      ],
      "text/plain": [
       "   SeriousDlqin2yrs  RevolvingUtilizationOfUnsecuredLines  age  \\\n",
       "0                 0                              0.766127   45   \n",
       "1                 1                              0.957151   40   \n",
       "2                 1                              0.658180   38   \n",
       "\n",
       "   NumberOfTime30-59DaysPastDueNotWorse  DebtRatio  MonthlyIncome  \\\n",
       "0                                     2   0.802982         9120.0   \n",
       "1                                     0   0.121876         2600.0   \n",
       "2                                     1   0.085113         3042.0   \n",
       "\n",
       "   NumberOfOpenCreditLinesAndLoans  NumberOfTimes90DaysLate  \\\n",
       "0                               13                        0   \n",
       "1                                4                        0   \n",
       "2                                2                        1   \n",
       "\n",
       "   NumberRealEstateLoansOrLines  NumberOfTime60-89DaysPastDueNotWorse  \\\n",
       "0                             6                                     0   \n",
       "1                             0                                     0   \n",
       "2                             0                                     0   \n",
       "\n",
       "   NumberOfDependents  \n",
       "0                 2.0  \n",
       "1                 1.0  \n",
       "2                 0.0  "
      ]
     },
     "execution_count": 49,
     "metadata": {},
     "output_type": "execute_result"
    }
   ],
   "source": [
    "# data_Smote.to_csv('data_smote.csv',header=True,index = False,encoding='utf-8')\n",
    "data_Smote = pd.read_csv('Traindata_clean.csv')\n",
    "data_Smote.head(3)"
   ]
  },
  {
   "cell_type": "markdown",
   "metadata": {},
   "source": [
    "# 针对数据源WOE转换并替换原数据集"
   ]
  },
  {
   "cell_type": "code",
   "execution_count": 21,
   "metadata": {},
   "outputs": [],
   "source": [
    "class class_Preprocess_WOE_Reshape:\n",
    "    def __init__(self,data,bins):\n",
    "        self.Data = data\n",
    "        self.bins = bins\n",
    "    def calcu_woe(self):\n",
    "        woe_dict = {}\n",
    "        for col in self.Data.columns.tolist(): \n",
    "            woe_List =[]\n",
    "            if col=='SeriousDlqin2yrs':\n",
    "                Allgood = self.Data[col].value_counts()[1]\n",
    "                Allbad = self.Data[col].value_counts()[0]\n",
    "            else:\n",
    "                for i in np.arange(len(self.bins[col])-1):\n",
    "                    Min =self.Data[col]<=self.bins[col][i+1]\n",
    "                    Max =self.Data[col]>self.bins[col][i]\n",
    "                    good = self.Data.loc[(Min&Max),'SeriousDlqin2yrs'].sum()\n",
    "                    bad = len(self.Data.loc[(Min&Max),'SeriousDlqin2yrs'])-good\n",
    "                    woe = np.log((good/Allgood)*(Allbad/bad))\n",
    "                    woe_List.append(round(woe,4))\n",
    "                woe_dict[col] =woe_List\n",
    "        return woe_dict\n",
    "    def Data_Preprocessing_Cut(self):\n",
    "        Data_Cut = pd.DataFrame()\n",
    "        for col in list( self.Data.columns[1:]):\n",
    "            Data_Cut[col] = pd.cut( self.Data[col],bins =self.bins[col]).map(str).tolist()\n",
    "        return Data_Cut\n",
    "    def data_Preprocessing_Woe_Replace(self):\n",
    "        # first step . use woe values and binning make dict for replace\n",
    "        Data = self.Data.copy()\n",
    "        for col in Data.columns.tolist()[1:]:\n",
    "            woe_bins_dict ={}\n",
    "            woe_dict = calcu_woe(Data=self.Data,bins_seq=self.bins)\n",
    "            Data_Smote_Cut = Data_Preprocessing_Cut(Data=self.Data,bins_seq=self.bins)\n",
    "            bins_sort_list = pd.cut(Data[col],bins =self.bins[col]).unique().sort_values().tolist()\n",
    "            for i,bins in enumerate(bins_sort_list):\n",
    "                woe_bins_dict[str(bins)] = woe_dict[col][i]\n",
    "            Data[col] = Data_Smote_Cut[col].map(woe_bins_dict)\n",
    "        return Data"
   ]
  },
  {
   "cell_type": "markdown",
   "metadata": {},
   "source": [
    "### 读取WOE转换后数据"
   ]
  },
  {
   "cell_type": "code",
   "execution_count": 22,
   "metadata": {},
   "outputs": [],
   "source": [
    "Target_data_woechange = pd.read_csv('Data_Smote_Cut_replace.csv',encoding='utf-8')"
   ]
  },
  {
   "cell_type": "code",
   "execution_count": 23,
   "metadata": {},
   "outputs": [
    {
     "data": {
      "text/html": [
       "<div>\n",
       "<style scoped>\n",
       "    .dataframe tbody tr th:only-of-type {\n",
       "        vertical-align: middle;\n",
       "    }\n",
       "\n",
       "    .dataframe tbody tr th {\n",
       "        vertical-align: top;\n",
       "    }\n",
       "\n",
       "    .dataframe thead th {\n",
       "        text-align: right;\n",
       "    }\n",
       "</style>\n",
       "<table border=\"1\" class=\"dataframe\">\n",
       "  <thead>\n",
       "    <tr style=\"text-align: right;\">\n",
       "      <th></th>\n",
       "      <th>SeriousDlqin2yrs</th>\n",
       "      <th>RevolvingUtilizationOfUnsecuredLines</th>\n",
       "      <th>age</th>\n",
       "      <th>NumberOfTime30-59DaysPastDueNotWorse</th>\n",
       "      <th>DebtRatio</th>\n",
       "      <th>MonthlyIncome</th>\n",
       "      <th>NumberOfOpenCreditLinesAndLoans</th>\n",
       "      <th>NumberOfTimes90DaysLate</th>\n",
       "      <th>NumberRealEstateLoansOrLines</th>\n",
       "      <th>NumberOfTime60-89DaysPastDueNotWorse</th>\n",
       "      <th>NumberOfDependents</th>\n",
       "    </tr>\n",
       "  </thead>\n",
       "  <tbody>\n",
       "    <tr>\n",
       "      <th>0</th>\n",
       "      <td>0</td>\n",
       "      <td>-1.0818</td>\n",
       "      <td>-0.3553</td>\n",
       "      <td>-1.7379</td>\n",
       "      <td>-0.0005</td>\n",
       "      <td>0.4113</td>\n",
       "      <td>0.1242</td>\n",
       "      <td>0.3751</td>\n",
       "      <td>-0.2586</td>\n",
       "      <td>0.2729</td>\n",
       "      <td>-0.2373</td>\n",
       "    </tr>\n",
       "    <tr>\n",
       "      <th>1</th>\n",
       "      <td>1</td>\n",
       "      <td>-1.0818</td>\n",
       "      <td>-0.3553</td>\n",
       "      <td>0.5275</td>\n",
       "      <td>-0.0005</td>\n",
       "      <td>-0.3321</td>\n",
       "      <td>0.0250</td>\n",
       "      <td>0.3751</td>\n",
       "      <td>-0.0232</td>\n",
       "      <td>0.2729</td>\n",
       "      <td>-0.0996</td>\n",
       "    </tr>\n",
       "    <tr>\n",
       "      <th>2</th>\n",
       "      <td>1</td>\n",
       "      <td>-0.1158</td>\n",
       "      <td>-0.3553</td>\n",
       "      <td>-0.9063</td>\n",
       "      <td>-0.0005</td>\n",
       "      <td>-0.2824</td>\n",
       "      <td>-0.2559</td>\n",
       "      <td>-1.9657</td>\n",
       "      <td>-0.0232</td>\n",
       "      <td>0.2729</td>\n",
       "      <td>0.1553</td>\n",
       "    </tr>\n",
       "  </tbody>\n",
       "</table>\n",
       "</div>"
      ],
      "text/plain": [
       "   SeriousDlqin2yrs  RevolvingUtilizationOfUnsecuredLines     age  \\\n",
       "0                 0                               -1.0818 -0.3553   \n",
       "1                 1                               -1.0818 -0.3553   \n",
       "2                 1                               -0.1158 -0.3553   \n",
       "\n",
       "   NumberOfTime30-59DaysPastDueNotWorse  DebtRatio  MonthlyIncome  \\\n",
       "0                               -1.7379    -0.0005         0.4113   \n",
       "1                                0.5275    -0.0005        -0.3321   \n",
       "2                               -0.9063    -0.0005        -0.2824   \n",
       "\n",
       "   NumberOfOpenCreditLinesAndLoans  NumberOfTimes90DaysLate  \\\n",
       "0                           0.1242                   0.3751   \n",
       "1                           0.0250                   0.3751   \n",
       "2                          -0.2559                  -1.9657   \n",
       "\n",
       "   NumberRealEstateLoansOrLines  NumberOfTime60-89DaysPastDueNotWorse  \\\n",
       "0                       -0.2586                                0.2729   \n",
       "1                       -0.0232                                0.2729   \n",
       "2                       -0.0232                                0.2729   \n",
       "\n",
       "   NumberOfDependents  \n",
       "0             -0.2373  \n",
       "1             -0.0996  \n",
       "2              0.1553  "
      ]
     },
     "execution_count": 23,
     "metadata": {},
     "output_type": "execute_result"
    }
   ],
   "source": [
    "Target_data_woechange[:3]"
   ]
  },
  {
   "cell_type": "markdown",
   "metadata": {},
   "source": [
    "# 建立logisticsRegression模型"
   ]
  },
  {
   "cell_type": "markdown",
   "metadata": {},
   "source": [
    "### 数据集准备"
   ]
  },
  {
   "cell_type": "code",
   "execution_count": 24,
   "metadata": {},
   "outputs": [
    {
     "data": {
      "text/html": [
       "<div>\n",
       "<style scoped>\n",
       "    .dataframe tbody tr th:only-of-type {\n",
       "        vertical-align: middle;\n",
       "    }\n",
       "\n",
       "    .dataframe tbody tr th {\n",
       "        vertical-align: top;\n",
       "    }\n",
       "\n",
       "    .dataframe thead th {\n",
       "        text-align: right;\n",
       "    }\n",
       "</style>\n",
       "<table border=\"1\" class=\"dataframe\">\n",
       "  <thead>\n",
       "    <tr style=\"text-align: right;\">\n",
       "      <th></th>\n",
       "      <th>RevolvingUtilizationOfUnsecuredLines</th>\n",
       "      <th>age</th>\n",
       "      <th>NumberOfTime30-59DaysPastDueNotWorse</th>\n",
       "      <th>DebtRatio</th>\n",
       "      <th>MonthlyIncome</th>\n",
       "      <th>NumberOfOpenCreditLinesAndLoans</th>\n",
       "      <th>NumberOfTimes90DaysLate</th>\n",
       "      <th>NumberRealEstateLoansOrLines</th>\n",
       "      <th>NumberOfTime60-89DaysPastDueNotWorse</th>\n",
       "      <th>NumberOfDependents</th>\n",
       "    </tr>\n",
       "  </thead>\n",
       "  <tbody>\n",
       "    <tr>\n",
       "      <th>0</th>\n",
       "      <td>-1.0818</td>\n",
       "      <td>-0.3553</td>\n",
       "      <td>-1.7379</td>\n",
       "      <td>-0.0005</td>\n",
       "      <td>0.4113</td>\n",
       "      <td>0.1242</td>\n",
       "      <td>0.3751</td>\n",
       "      <td>-0.2586</td>\n",
       "      <td>0.2729</td>\n",
       "      <td>-0.2373</td>\n",
       "    </tr>\n",
       "    <tr>\n",
       "      <th>1</th>\n",
       "      <td>-1.0818</td>\n",
       "      <td>-0.3553</td>\n",
       "      <td>0.5275</td>\n",
       "      <td>-0.0005</td>\n",
       "      <td>-0.3321</td>\n",
       "      <td>0.0250</td>\n",
       "      <td>0.3751</td>\n",
       "      <td>-0.0232</td>\n",
       "      <td>0.2729</td>\n",
       "      <td>-0.0996</td>\n",
       "    </tr>\n",
       "    <tr>\n",
       "      <th>2</th>\n",
       "      <td>-0.1158</td>\n",
       "      <td>-0.3553</td>\n",
       "      <td>-0.9063</td>\n",
       "      <td>-0.0005</td>\n",
       "      <td>-0.2824</td>\n",
       "      <td>-0.2559</td>\n",
       "      <td>-1.9657</td>\n",
       "      <td>-0.0232</td>\n",
       "      <td>0.2729</td>\n",
       "      <td>0.1553</td>\n",
       "    </tr>\n",
       "  </tbody>\n",
       "</table>\n",
       "</div>"
      ],
      "text/plain": [
       "   RevolvingUtilizationOfUnsecuredLines     age  \\\n",
       "0                               -1.0818 -0.3553   \n",
       "1                               -1.0818 -0.3553   \n",
       "2                               -0.1158 -0.3553   \n",
       "\n",
       "   NumberOfTime30-59DaysPastDueNotWorse  DebtRatio  MonthlyIncome  \\\n",
       "0                               -1.7379    -0.0005         0.4113   \n",
       "1                                0.5275    -0.0005        -0.3321   \n",
       "2                               -0.9063    -0.0005        -0.2824   \n",
       "\n",
       "   NumberOfOpenCreditLinesAndLoans  NumberOfTimes90DaysLate  \\\n",
       "0                           0.1242                   0.3751   \n",
       "1                           0.0250                   0.3751   \n",
       "2                          -0.2559                  -1.9657   \n",
       "\n",
       "   NumberRealEstateLoansOrLines  NumberOfTime60-89DaysPastDueNotWorse  \\\n",
       "0                       -0.2586                                0.2729   \n",
       "1                       -0.0232                                0.2729   \n",
       "2                       -0.0232                                0.2729   \n",
       "\n",
       "   NumberOfDependents  \n",
       "0             -0.2373  \n",
       "1             -0.0996  \n",
       "2              0.1553  "
      ]
     },
     "execution_count": 24,
     "metadata": {},
     "output_type": "execute_result"
    }
   ],
   "source": [
    "X_Data = Target_data_woechange.iloc[:,1:]\n",
    "X_Data[:3]"
   ]
  },
  {
   "cell_type": "code",
   "execution_count": 28,
   "metadata": {},
   "outputs": [
    {
     "data": {
      "text/plain": [
       "(145837, 10)"
      ]
     },
     "execution_count": 28,
     "metadata": {},
     "output_type": "execute_result"
    }
   ],
   "source": [
    "X_Data.shape"
   ]
  },
  {
   "cell_type": "code",
   "execution_count": 25,
   "metadata": {},
   "outputs": [
    {
     "data": {
      "text/plain": [
       "array([0, 1], dtype=int64)"
      ]
     },
     "execution_count": 25,
     "metadata": {},
     "output_type": "execute_result"
    }
   ],
   "source": [
    "y_Data = Target_data_woechange['SeriousDlqin2yrs'].values\n",
    "y_Data[:2]"
   ]
  },
  {
   "cell_type": "markdown",
   "metadata": {},
   "source": [
    "## 利用类失衡进行处理"
   ]
  },
  {
   "cell_type": "code",
   "execution_count": 26,
   "metadata": {},
   "outputs": [],
   "source": [
    "imbalance =class_imbalances(data_X =X_Data,data_y= y_Data,ratio=0.5,random_state=2018)"
   ]
  },
  {
   "cell_type": "code",
   "execution_count": 27,
   "metadata": {},
   "outputs": [
    {
     "name": "stdout",
     "output_type": "stream",
     "text": [
      "源数据y的分布 [(0, 9712), (1, 136125)]\n",
      "SMOTE过采样源数据y的分布 [(0, 68062), (1, 136125)]\n"
     ]
    }
   ],
   "source": [
    "X_oversampler,Y_oversampler = imbalance.class_imbalances_Oversampler_SMOTE()"
   ]
  },
  {
   "cell_type": "markdown",
   "metadata": {},
   "source": [
    "## 模型参数选择"
   ]
  },
  {
   "cell_type": "code",
   "execution_count": 29,
   "metadata": {},
   "outputs": [],
   "source": [
    "from sklearn.linear_model import LogisticRegression\n",
    "from sklearn.model_selection import GridSearchCV\n",
    "grid_param ={'max_iter':[100,200,500],'C':[0.01,0.1,1,10,100],'solver':['liblinear','lbfgs']}\n",
    "def Select_bestParameter(data_X,data_Y,grid_prarm):\n",
    "    clf = LogisticRegression(penalty=\"l2\",random_state=2018)\n",
    "    grid = GridSearchCV(clf,grid_param,cv=5,n_jobs=6)\n",
    "    grid.fit(data_X,data_Y)\n",
    "    return grid"
   ]
  },
  {
   "cell_type": "code",
   "execution_count": 31,
   "metadata": {},
   "outputs": [],
   "source": [
    "gird =Select_bestParameter(X_oversampler,Y_oversampler,grid_param)"
   ]
  },
  {
   "cell_type": "code",
   "execution_count": 32,
   "metadata": {},
   "outputs": [
    {
     "data": {
      "text/plain": [
       "{'C': 0.1, 'max_iter': 100, 'solver': 'liblinear'}"
      ]
     },
     "execution_count": 32,
     "metadata": {},
     "output_type": "execute_result"
    }
   ],
   "source": [
    "gird.best_params_"
   ]
  },
  {
   "cell_type": "markdown",
   "metadata": {},
   "source": [
    "# 模型评估"
   ]
  },
  {
   "cell_type": "code",
   "execution_count": 34,
   "metadata": {},
   "outputs": [],
   "source": [
    "from sklearn.model_selection import train_test_split\n",
    "from sklearn.metrics import f1_score,roc_auc_score\n",
    "X_train,X_test,Y_train,Y_test = train_test_split(X_oversampler,Y_oversampler,test_size=0.2,random_state = 2018,stratify =Y_oversampler)\n",
    "# best_model =gird.best_estimator_\n",
    "best_model = LogisticRegression(penalty=\"l2\",random_state=2018,C=0.1,max_iter=100,solver='liblinear')\n",
    "best_model.fit(X_train,Y_train)\n",
    "predicted = best_model.predict(X_test)\n",
    "predicted_prob = best_model.predict_proba(X_test)"
   ]
  },
  {
   "cell_type": "markdown",
   "metadata": {},
   "source": [
    "# f1_score值输出"
   ]
  },
  {
   "cell_type": "code",
   "execution_count": 35,
   "metadata": {},
   "outputs": [
    {
     "data": {
      "text/plain": [
       "0.8609339996553507"
      ]
     },
     "execution_count": 35,
     "metadata": {},
     "output_type": "execute_result"
    }
   ],
   "source": [
    "f1_score(Y_test,predicted)"
   ]
  },
  {
   "cell_type": "markdown",
   "metadata": {},
   "source": [
    "## roc_auc_score 值输出"
   ]
  },
  {
   "cell_type": "code",
   "execution_count": 36,
   "metadata": {},
   "outputs": [
    {
     "data": {
      "text/plain": [
       "0.8532501119595006"
      ]
     },
     "execution_count": 36,
     "metadata": {},
     "output_type": "execute_result"
    }
   ],
   "source": [
    "score =predicted_prob[:,1:]\n",
    "score =score.ravel()\n",
    "roc_auc_score(Y_test,score)"
   ]
  },
  {
   "cell_type": "code",
   "execution_count": 37,
   "metadata": {},
   "outputs": [
    {
     "data": {
      "text/plain": [
       "array([[0.63964474, 0.51062076, 0.60386648, 0.74452679, 0.38330059,\n",
       "        0.03230222, 0.61346855, 0.74766174, 0.49945693, 0.13514052]])"
      ]
     },
     "execution_count": 37,
     "metadata": {},
     "output_type": "execute_result"
    }
   ],
   "source": [
    "best_model.coef_"
   ]
  },
  {
   "cell_type": "code",
   "execution_count": 65,
   "metadata": {},
   "outputs": [
    {
     "data": {
      "text/plain": [
       "[0.6396447416115161,\n",
       " 0.5106207550941492,\n",
       " 0.6038664811482479,\n",
       " 0.7445267856937159,\n",
       " 0.38330058790445226,\n",
       " 0.03230222355206056,\n",
       " 0.6134685490470583,\n",
       " 0.7476617448394686,\n",
       " 0.4994569303921842,\n",
       " 0.13514052055078254]"
      ]
     },
     "execution_count": 65,
     "metadata": {},
     "output_type": "execute_result"
    }
   ],
   "source": [
    "coef_list =best_model.coef_.tolist()[0]\n",
    "coef_list"
   ]
  },
  {
   "cell_type": "code",
   "execution_count": 96,
   "metadata": {},
   "outputs": [
    {
     "data": {
      "text/plain": [
       "array([0.66164068])"
      ]
     },
     "execution_count": 96,
     "metadata": {},
     "output_type": "execute_result"
    }
   ],
   "source": [
    "best_model.intercept_"
   ]
  },
  {
   "cell_type": "markdown",
   "metadata": {},
   "source": [
    "# 最终评分卡模型"
   ]
  },
  {
   "cell_type": "code",
   "execution_count": 44,
   "metadata": {},
   "outputs": [],
   "source": [
    "bins_ROUL =[-np.inf,0,0.3,0.7,1,3,np.inf]  # RevolvingUtilizationOfUnsecuredLines\n",
    "bins_age =[-np.inf,30,45,55,60,65,75,np.inf]  # age\n",
    "bins_N359DW = [-np.inf,0,1,3,5,np.inf]  # NumberOfTime30-59DaysPastDueNotWorse\n",
    "bins_Ratio = [-np.inf,0,1,3,5,10,np.inf]   # DebtRatio\n",
    "bins_moncome =[-np.inf,751,3000,4500,6100,8850,np.inf] # MonthlyIncome\n",
    "bins_NCLL =[-np.inf,0,1,3,5,np.inf] # NumberOfOpenCreditLinesAndLoans\n",
    "bins_N90DL = [-np.inf,0,1,2,5,np.inf]   # NumberOfTimes90DaysLate\n",
    "bins_NRLL = [-np.inf,1,2,np.inf]   # NumberRealEstateLoansOrLines\n",
    "bins_N689DW = [-np.inf,0,1,3,5,np.inf]  # NumberOfTime60-89DaysPastDueNotWorse\n",
    "bins_NOD =[-np.inf,0,1,3,5,np.inf] # NumberOfDependents\n",
    "bins_seq ={}\n",
    "for name,bins in zip(list(Target_data_woechange.columns)[1:],[bins_ROUL,bins_age,bins_N359DW,bins_Ratio,bins_moncome,bins_NCLL,bins_N90DL,bins_NRLL,bins_N689DW,bins_NOD]):\n",
    "    bins_seq[name] = bins"
   ]
  },
  {
   "cell_type": "code",
   "execution_count": 45,
   "metadata": {},
   "outputs": [
    {
     "data": {
      "text/plain": [
       "{'RevolvingUtilizationOfUnsecuredLines': [-inf, 0, 0.3, 0.7, 1, 3, inf],\n",
       " 'age': [-inf, 30, 45, 55, 60, 65, 75, inf],\n",
       " 'NumberOfTime30-59DaysPastDueNotWorse': [-inf, 0, 1, 3, 5, inf],\n",
       " 'DebtRatio': [-inf, 0, 1, 3, 5, 10, inf],\n",
       " 'MonthlyIncome': [-inf, 751, 3000, 4500, 6100, 8850, inf],\n",
       " 'NumberOfOpenCreditLinesAndLoans': [-inf, 0, 1, 3, 5, inf],\n",
       " 'NumberOfTimes90DaysLate': [-inf, 0, 1, 2, 5, inf],\n",
       " 'NumberRealEstateLoansOrLines': [-inf, 1, 2, inf],\n",
       " 'NumberOfTime60-89DaysPastDueNotWorse': [-inf, 0, 1, 3, 5, inf],\n",
       " 'NumberOfDependents': [-inf, 0, 1, 3, 5, inf]}"
      ]
     },
     "execution_count": 45,
     "metadata": {},
     "output_type": "execute_result"
    }
   ],
   "source": [
    "bins_seq"
   ]
  },
  {
   "cell_type": "code",
   "execution_count": 89,
   "metadata": {},
   "outputs": [
    {
     "data": {
      "text/plain": [
       "{'RevolvingUtilizationOfUnsecuredLines': [0.8288,\n",
       "  1.1802,\n",
       "  -0.1158,\n",
       "  -1.0818,\n",
       "  -2.2233,\n",
       "  -0.4941],\n",
       " 'age': [-0.5688, -0.3553, -0.1361, 0.2853, 0.5439, 0.9594, 1.1947],\n",
       " 'NumberOfTime30-59DaysPastDueNotWorse': [0.5275,\n",
       "  -0.9063,\n",
       "  -1.7379,\n",
       "  -2.3839,\n",
       "  -2.6572],\n",
       " 'DebtRatio': [0.0129, -0.0005, -0.7209, 0.0224, 0.4969, 0.1871],\n",
       " 'MonthlyIncome': [0.2474, -0.3321, -0.2824, -0.092, 0.1839, 0.4113],\n",
       " 'NumberOfOpenCreditLinesAndLoans': [-1.3749, -0.7978, -0.2559, 0.025, 0.1242],\n",
       " 'NumberOfTimes90DaysLate': [0.3751, -1.9657, -2.6376, -3.0776, -3.3085],\n",
       " 'NumberRealEstateLoansOrLines': [-0.0232, 0.1844, -0.2586],\n",
       " 'NumberOfTime60-89DaysPastDueNotWorse': [0.2729,\n",
       "  -1.833,\n",
       "  -2.6953,\n",
       "  -3.1007,\n",
       "  -3.3874],\n",
       " 'NumberOfDependents': [0.1553, -0.0996, -0.2373, -0.4537, -0.7082]}"
      ]
     },
     "execution_count": 89,
     "metadata": {},
     "output_type": "execute_result"
    }
   ],
   "source": [
    "WOE_Reshape = class_Preprocess_WOE_Reshape(data = data_Smote,bins=bins_seq)\n",
    "woe_dict = WOE_Reshape.calcu_woe()\n",
    "woe_dict"
   ]
  },
  {
   "cell_type": "code",
   "execution_count": 67,
   "metadata": {},
   "outputs": [],
   "source": [
    "coef_dict =dict(zip(X_Data.columns.tolist(),coef_list))"
   ]
  },
  {
   "cell_type": "code",
   "execution_count": 71,
   "metadata": {},
   "outputs": [
    {
     "data": {
      "text/plain": [
       "{'RevolvingUtilizationOfUnsecuredLines': 0.6396447416115161,\n",
       " 'age': 0.5106207550941492,\n",
       " 'NumberOfTime30-59DaysPastDueNotWorse': 0.6038664811482479,\n",
       " 'DebtRatio': 0.7445267856937159,\n",
       " 'MonthlyIncome': 0.38330058790445226,\n",
       " 'NumberOfOpenCreditLinesAndLoans': 0.03230222355206056,\n",
       " 'NumberOfTimes90DaysLate': 0.6134685490470583,\n",
       " 'NumberRealEstateLoansOrLines': 0.7476617448394686,\n",
       " 'NumberOfTime60-89DaysPastDueNotWorse': 0.4994569303921842,\n",
       " 'NumberOfDependents': 0.13514052055078254}"
      ]
     },
     "execution_count": 71,
     "metadata": {},
     "output_type": "execute_result"
    }
   ],
   "source": [
    "coef_dict"
   ]
  },
  {
   "cell_type": "code",
   "execution_count": 70,
   "metadata": {},
   "outputs": [
    {
     "data": {
      "text/plain": [
       "{'RevolvingUtilizationOfUnsecuredLines': [-inf, 0, 0.3, 0.7, 1, 3, inf],\n",
       " 'age': [-inf, 30, 45, 55, 60, 65, 75, inf],\n",
       " 'NumberOfTime30-59DaysPastDueNotWorse': [-inf, 0, 1, 3, 5, inf],\n",
       " 'DebtRatio': [-inf, 0, 1, 3, 5, 10, inf],\n",
       " 'MonthlyIncome': [-inf, 751, 3000, 4500, 6100, 8850, inf],\n",
       " 'NumberOfOpenCreditLinesAndLoans': [-inf, 0, 1, 3, 5, inf],\n",
       " 'NumberOfTimes90DaysLate': [-inf, 0, 1, 2, 5, inf],\n",
       " 'NumberRealEstateLoansOrLines': [-inf, 1, 2, inf],\n",
       " 'NumberOfTime60-89DaysPastDueNotWorse': [-inf, 0, 1, 3, 5, inf],\n",
       " 'NumberOfDependents': [-inf, 0, 1, 3, 5, inf]}"
      ]
     },
     "execution_count": 70,
     "metadata": {},
     "output_type": "execute_result"
    }
   ],
   "source": [
    "bins_seq"
   ]
  },
  {
   "cell_type": "code",
   "execution_count": null,
   "metadata": {},
   "outputs": [],
   "source": []
  },
  {
   "cell_type": "markdown",
   "metadata": {},
   "source": [
    "# 最后Score表达式"
   ]
  },
  {
   "cell_type": "code",
   "execution_count": 82,
   "metadata": {},
   "outputs": [],
   "source": [
    "A = 541.85\n",
    "B = -28.86"
   ]
  },
  {
   "cell_type": "code",
   "execution_count": 93,
   "metadata": {},
   "outputs": [],
   "source": [
    "woe_score_dict =woe_dict.copy()\n",
    "for col,item in woe_dict.items():\n",
    "    for i,woe in enumerate(item):\n",
    "        woe_score_dict[col][i] = woe*coef_dict[col]*B"
   ]
  },
  {
   "cell_type": "code",
   "execution_count": 85,
   "metadata": {},
   "outputs": [
    {
     "data": {
      "text/plain": [
       "{'RevolvingUtilizationOfUnsecuredLines': 0.6396447416115161,\n",
       " 'age': 0.5106207550941492,\n",
       " 'NumberOfTime30-59DaysPastDueNotWorse': 0.6038664811482479,\n",
       " 'DebtRatio': 0.7445267856937159,\n",
       " 'MonthlyIncome': 0.38330058790445226,\n",
       " 'NumberOfOpenCreditLinesAndLoans': 0.03230222355206056,\n",
       " 'NumberOfTimes90DaysLate': 0.6134685490470583,\n",
       " 'NumberRealEstateLoansOrLines': 0.7476617448394686,\n",
       " 'NumberOfTime60-89DaysPastDueNotWorse': 0.4994569303921842,\n",
       " 'NumberOfDependents': 0.13514052055078254}"
      ]
     },
     "execution_count": 85,
     "metadata": {},
     "output_type": "execute_result"
    }
   ],
   "source": [
    "coef_dict"
   ]
  },
  {
   "cell_type": "code",
   "execution_count": 92,
   "metadata": {},
   "outputs": [
    {
     "data": {
      "text/plain": [
       "{'RevolvingUtilizationOfUnsecuredLines': [0.8288,\n",
       "  1.1802,\n",
       "  -0.1158,\n",
       "  -1.0818,\n",
       "  -2.2233,\n",
       "  -0.4941],\n",
       " 'age': [-0.5688, -0.3553, -0.1361, 0.2853, 0.5439, 0.9594, 1.1947],\n",
       " 'NumberOfTime30-59DaysPastDueNotWorse': [0.5275,\n",
       "  -0.9063,\n",
       "  -1.7379,\n",
       "  -2.3839,\n",
       "  -2.6572],\n",
       " 'DebtRatio': [0.0129, -0.0005, -0.7209, 0.0224, 0.4969, 0.1871],\n",
       " 'MonthlyIncome': [0.2474, -0.3321, -0.2824, -0.092, 0.1839, 0.4113],\n",
       " 'NumberOfOpenCreditLinesAndLoans': [-1.3749, -0.7978, -0.2559, 0.025, 0.1242],\n",
       " 'NumberOfTimes90DaysLate': [0.3751, -1.9657, -2.6376, -3.0776, -3.3085],\n",
       " 'NumberRealEstateLoansOrLines': [-0.0232, 0.1844, -0.2586],\n",
       " 'NumberOfTime60-89DaysPastDueNotWorse': [0.2729,\n",
       "  -1.833,\n",
       "  -2.6953,\n",
       "  -3.1007,\n",
       "  -3.3874],\n",
       " 'NumberOfDependents': [0.1553, -0.0996, -0.2373, -0.4537, -0.7082]}"
      ]
     },
     "execution_count": 92,
     "metadata": {},
     "output_type": "execute_result"
    }
   ],
   "source": [
    "woe_score_dict"
   ]
  },
  {
   "cell_type": "code",
   "execution_count": null,
   "metadata": {},
   "outputs": [],
   "source": []
  },
  {
   "cell_type": "code",
   "execution_count": null,
   "metadata": {},
   "outputs": [],
   "source": []
  },
  {
   "cell_type": "code",
   "execution_count": null,
   "metadata": {},
   "outputs": [],
   "source": []
  },
  {
   "cell_type": "code",
   "execution_count": null,
   "metadata": {},
   "outputs": [],
   "source": []
  },
  {
   "cell_type": "code",
   "execution_count": null,
   "metadata": {},
   "outputs": [],
   "source": []
  }
 ],
 "metadata": {
  "kernelspec": {
   "display_name": "Python 3",
   "language": "python",
   "name": "python3"
  },
  "language_info": {
   "codemirror_mode": {
    "name": "ipython",
    "version": 3
   },
   "file_extension": ".py",
   "mimetype": "text/x-python",
   "name": "python",
   "nbconvert_exporter": "python",
   "pygments_lexer": "ipython3",
   "version": "3.6.5"
  }
 },
 "nbformat": 4,
 "nbformat_minor": 2
}
